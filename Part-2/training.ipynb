{
 "cells": [
  {
   "cell_type": "code",
   "execution_count": 1,
   "id": "e6b8e1d9-75a6-4260-8037-be871fc41152",
   "metadata": {},
   "outputs": [],
   "source": [
    "# Imports\n",
    "\n",
    "import numpy as np\n",
    "import matplotlib.pyplot as plt\n",
    "import torch\n",
    "import torch.nn as nn\n",
    "import torch.optim as optim\n",
    "from torch.utils.data import DataLoader, Dataset, random_split\n",
    "from sklearn.model_selection import train_test_split\n",
    "from torchvision.models import resnet18, ResNet18_Weights"
   ]
  },
  {
   "cell_type": "code",
   "execution_count": 2,
   "id": "d290d4e0-d82c-476d-b565-f8d30f74290e",
   "metadata": {},
   "outputs": [],
   "source": [
    "# Importing training data\n",
    "\n",
    "train_data1 = np.load('../DL-Project/data0.npy')\n",
    "train_lab1 = np.load('../DL-Project/lab0.npy')\n",
    "\n",
    "train_data2 = np.load('../DL-Project/data1.npy')\n",
    "train_lab2 = np.load('../DL-Project/lab1.npy')\n",
    "\n",
    "train_data3 = np.load('../DL-Project/data2.npy')\n",
    "train_lab3 = np.load('../DL-Project/lab2.npy')"
   ]
  },
  {
   "cell_type": "code",
   "execution_count": 3,
   "id": "11fdddc1-0845-4fd8-9d9d-f80befb7e489",
   "metadata": {},
   "outputs": [],
   "source": [
    "# Loading and preprocessing - normalizing the image and adding new dimension for convolutions\n",
    "\n",
    "images = np.concatenate((train_data1, train_data2, train_data3)) / 255\n",
    "labels = np.concatenate((train_lab1, train_lab2, train_lab3))\n",
    "\n",
    "images = images[:, np.newaxis, :, :]"
   ]
  },
  {
   "cell_type": "code",
   "execution_count": 4,
   "id": "8c626161-a1c1-4f8c-833f-bbeef91a4eaa",
   "metadata": {},
   "outputs": [],
   "source": [
    "# Splitting the dataset into train, validate and test sets\n",
    "\n",
    "train_images, temp_images, train_labels, temp_labels = train_test_split(\n",
    "    images, labels, test_size=0.2, random_state=100\n",
    ")\n",
    "val_images, test_images, val_labels, test_labels = train_test_split(\n",
    "    temp_images, temp_labels, test_size=0.5, random_state=100\n",
    ")"
   ]
  },
  {
   "cell_type": "code",
   "execution_count": 5,
   "id": "10c691b8-0899-401c-95c3-cb24138c2dbc",
   "metadata": {},
   "outputs": [],
   "source": [
    "# Converting the sets to pytorch compatible tensors\n",
    "\n",
    "train_images = torch.tensor(train_images, dtype=torch.float32)\n",
    "train_labels = torch.tensor(train_labels, dtype=torch.long)\n",
    "val_images = torch.tensor(val_images, dtype=torch.float32)\n",
    "val_labels = torch.tensor(val_labels, dtype=torch.long)\n",
    "test_images = torch.tensor(test_images, dtype=torch.float32)\n",
    "test_labels = torch.tensor(test_labels, dtype=torch.long)"
   ]
  },
  {
   "cell_type": "code",
   "execution_count": 6,
   "id": "29014818-b83e-4139-b857-35dc67f72436",
   "metadata": {},
   "outputs": [],
   "source": [
    "# Creating the Datasets from the tensors\n",
    "\n",
    "class ImageDataset(Dataset):\n",
    "    def __init__(self, images, labels):\n",
    "        self.images = images\n",
    "        self.labels = labels\n",
    "\n",
    "    def __len__(self):\n",
    "        return len(self.images)\n",
    "\n",
    "    def __getitem__(self, idx):\n",
    "        return self.images[idx], self.labels[idx]\n",
    "\n",
    "train_dataset = ImageDataset(train_images, train_labels)\n",
    "val_dataset = ImageDataset(val_images, val_labels)\n",
    "test_dataset = ImageDataset(test_images, test_labels)\n",
    "\n",
    "# Creating DataLoaders\n",
    "train_loader = DataLoader(train_dataset, batch_size=32, shuffle=True)\n",
    "val_loader = DataLoader(val_dataset, batch_size=32, shuffle=False)\n",
    "test_loader = DataLoader(test_dataset, batch_size=32, shuffle=False)"
   ]
  },
  {
   "cell_type": "code",
   "execution_count": 7,
   "id": "2f8e6ac2-209b-4093-842c-2b8dee5a5ac4",
   "metadata": {},
   "outputs": [],
   "source": [
    "# Load Pretrained ResNet-18\n",
    "model = resnet18(weights=ResNet18_Weights.DEFAULT)"
   ]
  },
  {
   "cell_type": "code",
   "execution_count": 8,
   "id": "c358448d-e4d2-46cd-b76f-1b54851df37c",
   "metadata": {},
   "outputs": [
    {
     "name": "stdout",
     "output_type": "stream",
     "text": [
      "ResNet(\n",
      "  (conv1): Conv2d(1, 64, kernel_size=(7, 7), stride=(2, 2), padding=(3, 3), bias=False)\n",
      "  (bn1): BatchNorm2d(64, eps=1e-05, momentum=0.1, affine=True, track_running_stats=True)\n",
      "  (relu): ReLU(inplace=True)\n",
      "  (maxpool): MaxPool2d(kernel_size=3, stride=2, padding=1, dilation=1, ceil_mode=False)\n",
      "  (layer1): Sequential(\n",
      "    (0): BasicBlock(\n",
      "      (conv1): Conv2d(64, 64, kernel_size=(3, 3), stride=(1, 1), padding=(1, 1), bias=False)\n",
      "      (bn1): BatchNorm2d(64, eps=1e-05, momentum=0.1, affine=True, track_running_stats=True)\n",
      "      (relu): ReLU(inplace=True)\n",
      "      (conv2): Conv2d(64, 64, kernel_size=(3, 3), stride=(1, 1), padding=(1, 1), bias=False)\n",
      "      (bn2): BatchNorm2d(64, eps=1e-05, momentum=0.1, affine=True, track_running_stats=True)\n",
      "    )\n",
      "    (1): BasicBlock(\n",
      "      (conv1): Conv2d(64, 64, kernel_size=(3, 3), stride=(1, 1), padding=(1, 1), bias=False)\n",
      "      (bn1): BatchNorm2d(64, eps=1e-05, momentum=0.1, affine=True, track_running_stats=True)\n",
      "      (relu): ReLU(inplace=True)\n",
      "      (conv2): Conv2d(64, 64, kernel_size=(3, 3), stride=(1, 1), padding=(1, 1), bias=False)\n",
      "      (bn2): BatchNorm2d(64, eps=1e-05, momentum=0.1, affine=True, track_running_stats=True)\n",
      "    )\n",
      "  )\n",
      "  (layer2): Sequential(\n",
      "    (0): BasicBlock(\n",
      "      (conv1): Conv2d(64, 128, kernel_size=(3, 3), stride=(2, 2), padding=(1, 1), bias=False)\n",
      "      (bn1): BatchNorm2d(128, eps=1e-05, momentum=0.1, affine=True, track_running_stats=True)\n",
      "      (relu): ReLU(inplace=True)\n",
      "      (conv2): Conv2d(128, 128, kernel_size=(3, 3), stride=(1, 1), padding=(1, 1), bias=False)\n",
      "      (bn2): BatchNorm2d(128, eps=1e-05, momentum=0.1, affine=True, track_running_stats=True)\n",
      "      (downsample): Sequential(\n",
      "        (0): Conv2d(64, 128, kernel_size=(1, 1), stride=(2, 2), bias=False)\n",
      "        (1): BatchNorm2d(128, eps=1e-05, momentum=0.1, affine=True, track_running_stats=True)\n",
      "      )\n",
      "    )\n",
      "    (1): BasicBlock(\n",
      "      (conv1): Conv2d(128, 128, kernel_size=(3, 3), stride=(1, 1), padding=(1, 1), bias=False)\n",
      "      (bn1): BatchNorm2d(128, eps=1e-05, momentum=0.1, affine=True, track_running_stats=True)\n",
      "      (relu): ReLU(inplace=True)\n",
      "      (conv2): Conv2d(128, 128, kernel_size=(3, 3), stride=(1, 1), padding=(1, 1), bias=False)\n",
      "      (bn2): BatchNorm2d(128, eps=1e-05, momentum=0.1, affine=True, track_running_stats=True)\n",
      "    )\n",
      "  )\n",
      "  (layer3): Sequential(\n",
      "    (0): BasicBlock(\n",
      "      (conv1): Conv2d(128, 256, kernel_size=(3, 3), stride=(2, 2), padding=(1, 1), bias=False)\n",
      "      (bn1): BatchNorm2d(256, eps=1e-05, momentum=0.1, affine=True, track_running_stats=True)\n",
      "      (relu): ReLU(inplace=True)\n",
      "      (conv2): Conv2d(256, 256, kernel_size=(3, 3), stride=(1, 1), padding=(1, 1), bias=False)\n",
      "      (bn2): BatchNorm2d(256, eps=1e-05, momentum=0.1, affine=True, track_running_stats=True)\n",
      "      (downsample): Sequential(\n",
      "        (0): Conv2d(128, 256, kernel_size=(1, 1), stride=(2, 2), bias=False)\n",
      "        (1): BatchNorm2d(256, eps=1e-05, momentum=0.1, affine=True, track_running_stats=True)\n",
      "      )\n",
      "    )\n",
      "    (1): BasicBlock(\n",
      "      (conv1): Conv2d(256, 256, kernel_size=(3, 3), stride=(1, 1), padding=(1, 1), bias=False)\n",
      "      (bn1): BatchNorm2d(256, eps=1e-05, momentum=0.1, affine=True, track_running_stats=True)\n",
      "      (relu): ReLU(inplace=True)\n",
      "      (conv2): Conv2d(256, 256, kernel_size=(3, 3), stride=(1, 1), padding=(1, 1), bias=False)\n",
      "      (bn2): BatchNorm2d(256, eps=1e-05, momentum=0.1, affine=True, track_running_stats=True)\n",
      "    )\n",
      "  )\n",
      "  (layer4): Sequential(\n",
      "    (0): BasicBlock(\n",
      "      (conv1): Conv2d(256, 512, kernel_size=(3, 3), stride=(2, 2), padding=(1, 1), bias=False)\n",
      "      (bn1): BatchNorm2d(512, eps=1e-05, momentum=0.1, affine=True, track_running_stats=True)\n",
      "      (relu): ReLU(inplace=True)\n",
      "      (conv2): Conv2d(512, 512, kernel_size=(3, 3), stride=(1, 1), padding=(1, 1), bias=False)\n",
      "      (bn2): BatchNorm2d(512, eps=1e-05, momentum=0.1, affine=True, track_running_stats=True)\n",
      "      (downsample): Sequential(\n",
      "        (0): Conv2d(256, 512, kernel_size=(1, 1), stride=(2, 2), bias=False)\n",
      "        (1): BatchNorm2d(512, eps=1e-05, momentum=0.1, affine=True, track_running_stats=True)\n",
      "      )\n",
      "    )\n",
      "    (1): BasicBlock(\n",
      "      (conv1): Conv2d(512, 512, kernel_size=(3, 3), stride=(1, 1), padding=(1, 1), bias=False)\n",
      "      (bn1): BatchNorm2d(512, eps=1e-05, momentum=0.1, affine=True, track_running_stats=True)\n",
      "      (relu): ReLU(inplace=True)\n",
      "      (conv2): Conv2d(512, 512, kernel_size=(3, 3), stride=(1, 1), padding=(1, 1), bias=False)\n",
      "      (bn2): BatchNorm2d(512, eps=1e-05, momentum=0.1, affine=True, track_running_stats=True)\n",
      "    )\n",
      "  )\n",
      "  (avgpool): AdaptiveAvgPool2d(output_size=(1, 1))\n",
      "  (fc): Linear(in_features=512, out_features=41, bias=True)\n",
      ")\n"
     ]
    }
   ],
   "source": [
    "# Modify First Convolution Layer (ResNet expects 3 channels, but we have 1)\n",
    "model.conv1 = nn.Conv2d(1, 64, kernel_size=7, stride=2, padding=3, bias=False)\n",
    "\n",
    "# Modify Fully Connected Layer for 41 classes (sums from 0-40)\n",
    "num_ftrs = model.fc.in_features  # Get input features of last layer\n",
    "model.fc = nn.Linear(num_ftrs, 41)  # Output layer with 41 classes\n",
    "\n",
    "print(model)  # Check the model architecture"
   ]
  },
  {
   "cell_type": "code",
   "execution_count": 9,
   "id": "82c9dc55-1e63-4234-8879-9480e4f3aea1",
   "metadata": {},
   "outputs": [
    {
     "name": "stdout",
     "output_type": "stream",
     "text": [
      "cuda\n"
     ]
    }
   ],
   "source": [
    "# Move model to GPU\n",
    "device = torch.device(\"cuda\" if torch.cuda.is_available() else \"cpu\")\n",
    "model = model.to(device)\n",
    "print(device)"
   ]
  },
  {
   "cell_type": "code",
   "execution_count": 10,
   "id": "ffbe01f1-bfd1-474a-bfe9-833ca9f46b50",
   "metadata": {},
   "outputs": [],
   "source": [
    "# Choosing Cross Entropy loss for classification and the Adam optimizer\n",
    "\n",
    "criterion = nn.CrossEntropyLoss()\n",
    "optimizer = torch.optim.Adam(model.parameters(), lr=0.001)"
   ]
  },
  {
   "cell_type": "code",
   "execution_count": 11,
   "id": "7b8e2dc6-ad34-49c4-992c-8484dde6c253",
   "metadata": {},
   "outputs": [],
   "source": [
    "# Defining the Training loop\n",
    "\n",
    "def train_model(model, train_loader, val_loader, criterion, optimizer, epochs=10):\n",
    "    train_losses, val_losses = [], []\n",
    "    for epoch in range(epochs):\n",
    "        model.train()  # Set to training mode\n",
    "        train_loss, correct, total = 0, 0, 0\n",
    "\n",
    "        for images, labels in train_loader:\n",
    "            images, labels = images.to(device), labels.to(device)  # Move to GPU\n",
    "\n",
    "            optimizer.zero_grad()  # Reset gradients\n",
    "            outputs = model(images)  # Forward pass\n",
    "            loss = criterion(outputs, labels)  # Compute loss\n",
    "            loss.backward()  # Backpropagation\n",
    "            optimizer.step()  # Update weights\n",
    "\n",
    "            train_loss += loss.item()\n",
    "            predicted_classes = torch.argmax(outputs, dim=1)\n",
    "            correct += (predicted_classes == labels).sum().item()\n",
    "            total += labels.size(0)\n",
    "\n",
    "        train_accuracy = 100 * correct / total\n",
    "        val_accuracy, val_loss = evaluate_model(model, val_loader)\n",
    "\n",
    "        train_losses.append(train_loss/len(train_loader))\n",
    "        val_losses.append(val_loss/len(val_loader))\n",
    "\n",
    "        print(f\"Epoch {epoch+1}/{epochs} | Loss: {train_loss/len(train_loader):.4f} | Train Acc: {train_accuracy:.2f}% | Val Acc: {val_accuracy:.2f}%\")\n",
    "\n",
    "    return train_losses, val_losses"
   ]
  },
  {
   "cell_type": "code",
   "execution_count": 12,
   "id": "a7dff473-60e9-46c6-85a0-48dfbf34f590",
   "metadata": {},
   "outputs": [],
   "source": [
    "# Function to evaluate model accuracy\n",
    "\n",
    "def evaluate_model(model, data_loader):\n",
    "    model.eval()  # Set to evaluation mode\n",
    "    correct, total = 0, 0\n",
    "    total_loss = 0\n",
    "\n",
    "    with torch.no_grad():\n",
    "        for images, labels in data_loader:\n",
    "            images, labels = images.to(device), labels.to(device)\n",
    "            outputs = model(images)\n",
    "            loss = criterion(outputs, labels)\n",
    "            total_loss += loss.item()\n",
    "            predicted_classes = torch.argmax(outputs, dim=1)  # Get predicted class\n",
    "\n",
    "            correct += (predicted_classes == labels).sum().item()\n",
    "            total += labels.size(0)\n",
    "\n",
    "    return (100 * correct / total, total_loss)  # Return accuracy percentage\n"
   ]
  },
  {
   "cell_type": "code",
   "execution_count": 13,
   "id": "a595c0d2-8ad3-4d1b-a531-96187ae8ebfa",
   "metadata": {},
   "outputs": [
    {
     "name": "stdout",
     "output_type": "stream",
     "text": [
      "Epoch 1/15 | Loss: 2.5710 | Train Acc: 13.86% | Val Acc: 16.73%\n",
      "Epoch 2/15 | Loss: 2.1124 | Train Acc: 21.57% | Val Acc: 27.93%\n",
      "Epoch 3/15 | Loss: 1.8264 | Train Acc: 28.62% | Val Acc: 32.83%\n",
      "Epoch 4/15 | Loss: 1.5640 | Train Acc: 36.98% | Val Acc: 28.10%\n",
      "Epoch 5/15 | Loss: 1.2773 | Train Acc: 48.74% | Val Acc: 53.23%\n",
      "Epoch 6/15 | Loss: 1.0188 | Train Acc: 59.75% | Val Acc: 67.63%\n",
      "Epoch 7/15 | Loss: 0.8535 | Train Acc: 67.67% | Val Acc: 69.90%\n",
      "Epoch 8/15 | Loss: 0.6943 | Train Acc: 74.82% | Val Acc: 79.40%\n",
      "Epoch 9/15 | Loss: 0.5687 | Train Acc: 79.27% | Val Acc: 78.60%\n",
      "Epoch 10/15 | Loss: 0.4771 | Train Acc: 83.34% | Val Acc: 87.93%\n",
      "Epoch 11/15 | Loss: 0.4289 | Train Acc: 85.21% | Val Acc: 85.93%\n",
      "Epoch 12/15 | Loss: 0.3678 | Train Acc: 87.38% | Val Acc: 87.00%\n",
      "Epoch 13/15 | Loss: 0.3163 | Train Acc: 89.29% | Val Acc: 86.17%\n",
      "Epoch 14/15 | Loss: 0.3443 | Train Acc: 88.28% | Val Acc: 89.00%\n",
      "Epoch 15/15 | Loss: 0.2751 | Train Acc: 91.10% | Val Acc: 87.90%\n"
     ]
    }
   ],
   "source": [
    "# Training for initial 15 epochs\n",
    "\n",
    "tl, vl = train_model(model, train_loader, val_loader, criterion, optimizer, epochs=15)"
   ]
  },
  {
   "cell_type": "code",
   "execution_count": 14,
   "id": "0ce7d316-aa44-464b-a641-0c727025a7f3",
   "metadata": {},
   "outputs": [],
   "source": [
    "acc = evaluate_model(model, test_loader)"
   ]
  },
  {
   "cell_type": "code",
   "execution_count": 15,
   "id": "3e123cd1-8683-4711-83ed-d6a23c7f597e",
   "metadata": {},
   "outputs": [
    {
     "name": "stdout",
     "output_type": "stream",
     "text": [
      "(88.13333333333334, 41.391801819205284)\n"
     ]
    }
   ],
   "source": [
    "# Accuracy after 15 epochs\n",
    "print(acc)"
   ]
  },
  {
   "cell_type": "code",
   "execution_count": 16,
   "id": "222a13af-57a9-4c95-8a17-d2e1eb577dd0",
   "metadata": {},
   "outputs": [],
   "source": [
    "# Save model\n",
    "torch.save(model.state_dict(), \"model.pth\")"
   ]
  },
  {
   "cell_type": "code",
   "execution_count": 17,
   "id": "872f52a8-5736-4e39-bf9a-d8d8a12df070",
   "metadata": {},
   "outputs": [
    {
     "name": "stdout",
     "output_type": "stream",
     "text": [
      "Epoch 1/25 | Loss: 0.2398 | Train Acc: 92.27% | Val Acc: 91.60%\n",
      "Epoch 2/25 | Loss: 0.2385 | Train Acc: 92.43% | Val Acc: 93.07%\n",
      "Epoch 3/25 | Loss: 0.2208 | Train Acc: 92.68% | Val Acc: 91.67%\n",
      "Epoch 4/25 | Loss: 0.1993 | Train Acc: 93.41% | Val Acc: 93.20%\n",
      "Epoch 5/25 | Loss: 0.2187 | Train Acc: 92.87% | Val Acc: 91.03%\n",
      "Epoch 6/25 | Loss: 0.1694 | Train Acc: 94.68% | Val Acc: 90.83%\n",
      "Epoch 7/25 | Loss: 0.2022 | Train Acc: 93.40% | Val Acc: 92.33%\n",
      "Epoch 8/25 | Loss: 0.1601 | Train Acc: 94.70% | Val Acc: 90.27%\n",
      "Epoch 9/25 | Loss: 0.1664 | Train Acc: 94.64% | Val Acc: 92.17%\n",
      "Epoch 10/25 | Loss: 0.1686 | Train Acc: 94.45% | Val Acc: 92.27%\n",
      "Epoch 11/25 | Loss: 0.1502 | Train Acc: 94.98% | Val Acc: 90.10%\n",
      "Epoch 12/25 | Loss: 0.1500 | Train Acc: 95.21% | Val Acc: 92.63%\n",
      "Epoch 13/25 | Loss: 0.1497 | Train Acc: 95.38% | Val Acc: 94.40%\n",
      "Epoch 14/25 | Loss: 0.1255 | Train Acc: 95.98% | Val Acc: 91.90%\n",
      "Epoch 15/25 | Loss: 0.0994 | Train Acc: 96.85% | Val Acc: 94.30%\n",
      "Epoch 16/25 | Loss: 0.1634 | Train Acc: 94.87% | Val Acc: 94.17%\n",
      "Epoch 17/25 | Loss: 0.1079 | Train Acc: 96.62% | Val Acc: 94.60%\n",
      "Epoch 18/25 | Loss: 0.1200 | Train Acc: 95.97% | Val Acc: 93.57%\n",
      "Epoch 19/25 | Loss: 0.1122 | Train Acc: 96.62% | Val Acc: 93.60%\n",
      "Epoch 20/25 | Loss: 0.1149 | Train Acc: 96.15% | Val Acc: 93.10%\n",
      "Epoch 21/25 | Loss: 0.0816 | Train Acc: 97.53% | Val Acc: 91.30%\n",
      "Epoch 22/25 | Loss: 0.1193 | Train Acc: 96.14% | Val Acc: 93.10%\n",
      "Epoch 23/25 | Loss: 0.1067 | Train Acc: 96.84% | Val Acc: 90.63%\n",
      "Epoch 24/25 | Loss: 0.0867 | Train Acc: 97.35% | Val Acc: 94.23%\n",
      "Epoch 25/25 | Loss: 0.1052 | Train Acc: 96.66% | Val Acc: 95.30%\n"
     ]
    }
   ],
   "source": [
    "# Training for 25 more epochs\n",
    "\n",
    "tl2, vl2 = train_model(model, train_loader, val_loader, criterion, optimizer, epochs=25)\n",
    "tl.extend(tl2)\n",
    "vl.extend(vl2)"
   ]
  },
  {
   "cell_type": "code",
   "execution_count": 18,
   "id": "7b3c759b-dc1a-4da8-9254-9f0fb10a603b",
   "metadata": {},
   "outputs": [],
   "source": [
    "acc = evaluate_model(model, test_loader)"
   ]
  },
  {
   "cell_type": "code",
   "execution_count": 19,
   "id": "abd64ba0-5d32-4aba-a304-d51eb6d7e420",
   "metadata": {},
   "outputs": [
    {
     "name": "stdout",
     "output_type": "stream",
     "text": [
      "(95.7, 23.789783879183233)\n"
     ]
    }
   ],
   "source": [
    "print(acc)"
   ]
  },
  {
   "cell_type": "code",
   "execution_count": 20,
   "id": "aaf3e553-c801-47b2-a28a-415d6ee2e299",
   "metadata": {},
   "outputs": [],
   "source": [
    "# Saving final model\n",
    "\n",
    "torch.save(model.state_dict(), \"model.pth\")"
   ]
  },
  {
   "cell_type": "code",
   "execution_count": 21,
   "id": "15fe0632-47d2-40b9-a305-df94fe6b8515",
   "metadata": {},
   "outputs": [
    {
     "data": {
      "image/png": "[encoded data removed]",
      "text/plain": [
       "<Figure size 640x480 with 1 Axes>"
      ]
     },
     "metadata": {},
     "output_type": "display_data"
    }
   ],
   "source": [
    "plt.plot(tl)\n",
    "plt.xlabel(\"Epochs\")\n",
    "plt.ylabel(\"Loss (MAE)\")\n",
    "plt.title(\"Training loss\")\n",
    "plt.show()"
   ]
  },
  {
   "cell_type": "markdown",
   "id": "28f0e25b-4375-4229-900e-511363c7c968",
   "metadata": {},
   "source": [
    "### Correction - Above and below graph denote Cross Entropy losses NOT mean absolute error"
   ]
  },
  {
   "cell_type": "code",
   "execution_count": 22,
   "id": "c8a5b6f0-2bfa-41db-9f80-83d311b4aeff",
   "metadata": {},
   "outputs": [
    {
     "data": {
      "image/png": "[encoded data removed]",
      "text/plain": [
       "<Figure size 640x480 with 1 Axes>"
      ]
     },
     "metadata": {},
     "output_type": "display_data"
    }
   ],
   "source": [
    "plt.plot(vl)\n",
    "plt.xlabel(\"Epochs\")\n",
    "plt.ylabel(\"Loss (MAE)\")\n",
    "plt.title(\"Validation loss\")\n",
    "plt.show()"
   ]
  },
  {
   "cell_type": "code",
   "execution_count": 23,
   "id": "ae075964-0a9d-449b-9d99-324901f5a9ed",
   "metadata": {},
   "outputs": [],
   "source": [
    "# Function to evaluate L1 loss of model, to compare with baseline CNN \n",
    "\n",
    "criterion = nn.L1Loss()\n",
    "\n",
    "def evaluate_l1(model, test_loader):\n",
    "    model.eval()\n",
    "    test_loss = 0\n",
    "    with torch.no_grad():\n",
    "        for images, labels in test_loader:\n",
    "            images, labels = images.to(device), labels.to(device)\n",
    "            # labels = labels.unsqueeze(1)\n",
    "            outputs = torch.argmax(model(images), dim=1)\n",
    "            loss = criterion(outputs, labels.to(torch.float32))\n",
    "            test_loss += loss.item()\n",
    "    print(f\"Test Loss: {test_loss/len(test_loader):.4f}\")"
   ]
  },
  {
   "cell_type": "code",
   "execution_count": 24,
   "id": "8776fe32-a3b3-4500-bd79-ed63055e261a",
   "metadata": {},
   "outputs": [
    {
     "name": "stdout",
     "output_type": "stream",
     "text": [
      "Test Loss: 0.0965\n"
     ]
    }
   ],
   "source": [
    "# L1 loss of the model on test set\n",
    "\n",
    "evaluate_l1(model, test_loader)"
   ]
  },
  {
   "cell_type": "code",
   "execution_count": null,
   "id": "54d09640-b7a9-4956-af48-11bcc0cc6af6",
   "metadata": {},
   "outputs": [],
   "source": []
  }
 ],
 "metadata": {
  "kernelspec": {
   "display_name": "Python 3 (ipykernel)",
   "language": "python",
   "name": "python3"
  },
  "language_info": {
   "codemirror_mode": {
    "name": "ipython",
    "version": 3
   },
   "file_extension": ".py",
   "mimetype": "text/x-python",
   "name": "python",
   "nbconvert_exporter": "python",
   "pygments_lexer": "ipython3",
   "version": "3.13.1"
  }
 },
 "nbformat": 4,
 "nbformat_minor": 5
}
