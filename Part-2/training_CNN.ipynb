{
 "cells": [
  {
   "cell_type": "code",
   "execution_count": 1,
   "id": "0b34ac7d-0707-44ab-805f-4c5c8749ad89",
   "metadata": {},
   "outputs": [],
   "source": [
    "# Imports\n",
    "\n",
    "import numpy as np\n",
    "import matplotlib.pyplot as plt\n",
    "import torch\n",
    "import torch.nn as nn\n",
    "import torch.optim as optim\n",
    "from torch.utils.data import DataLoader, Dataset, random_split\n",
    "from sklearn.model_selection import train_test_split"
   ]
  },
  {
   "cell_type": "code",
   "execution_count": 2,
   "id": "28f5a95c-fdc0-42cc-b224-ca268f25f86b",
   "metadata": {},
   "outputs": [],
   "source": [
    "# Importing training data\n",
    "\n",
    "train_data1 = np.load('../DL-Project/data0.npy')\n",
    "train_lab1 = np.load('../DL-Project/lab0.npy')\n",
    "\n",
    "train_data2 = np.load('../DL-Project/data1.npy')\n",
    "train_lab2 = np.load('../DL-Project/lab1.npy')\n",
    "\n",
    "train_data3 = np.load('../DL-Project/data2.npy')\n",
    "train_lab3 = np.load('../DL-Project/lab2.npy')\n"
   ]
  },
  {
   "cell_type": "code",
   "execution_count": 3,
   "id": "da2cb73c-95e7-4fb3-883a-db47e28e9a99",
   "metadata": {},
   "outputs": [],
   "source": [
    "# Preprocessing - normalizing the image and adding new dimension for convolutions\n",
    "\n",
    "images = np.concatenate((train_data1, train_data2, train_data3)) / 255\n",
    "labels = np.concatenate((train_lab1, train_lab2, train_lab3))\n",
    "\n",
    "images = images[:, np.newaxis, :, :]\n",
    "# labels = np.eye(40)[labels]"
   ]
  },
  {
   "cell_type": "code",
   "execution_count": 4,
   "id": "bb29eb36-f1ba-4ee6-8713-0c2c6f700a9c",
   "metadata": {},
   "outputs": [
    {
     "data": {
      "text/plain": [
       "(30000, 1, 40, 168)"
      ]
     },
     "execution_count": 4,
     "metadata": {},
     "output_type": "execute_result"
    }
   ],
   "source": [
    "np.shape(images)"
   ]
  },
  {
   "cell_type": "code",
   "execution_count": 5,
   "id": "c78e18d5-b806-4501-8150-5774d3af685f",
   "metadata": {},
   "outputs": [
    {
     "data": {
      "text/plain": [
       "(30000,)"
      ]
     },
     "execution_count": 5,
     "metadata": {},
     "output_type": "execute_result"
    }
   ],
   "source": [
    "np.shape(labels)"
   ]
  },
  {
   "cell_type": "code",
   "execution_count": 6,
   "id": "82c564f0-7ccf-4500-bdbb-fc1b79dbbef5",
   "metadata": {},
   "outputs": [
    {
     "data": {
      "text/plain": [
       "np.uint8(25)"
      ]
     },
     "execution_count": 6,
     "metadata": {},
     "output_type": "execute_result"
    }
   ],
   "source": [
    "labels[0]"
   ]
  },
  {
   "cell_type": "code",
   "execution_count": 7,
   "id": "58fbf76e-18c6-4da9-beaf-e5ede594edbc",
   "metadata": {},
   "outputs": [],
   "source": [
    "# Splitting the dataset into train, validate and test sets\n",
    "\n",
    "train_images, temp_images, train_labels, temp_labels = train_test_split(\n",
    "    images, labels, test_size=0.2, random_state=100\n",
    ")\n",
    "val_images, test_images, val_labels, test_labels = train_test_split(\n",
    "    temp_images, temp_labels, test_size=0.5, random_state=100\n",
    ")"
   ]
  },
  {
   "cell_type": "code",
   "execution_count": 8,
   "id": "9ad432c8-295f-489c-b7b0-8b46af7e1a2b",
   "metadata": {},
   "outputs": [],
   "source": [
    "# Converting the sets to pytorch compatible tensors\n",
    "\n",
    "train_images = torch.tensor(train_images, dtype=torch.float32)\n",
    "train_labels = torch.tensor(train_labels, dtype=torch.float32)\n",
    "val_images = torch.tensor(val_images, dtype=torch.float32)\n",
    "val_labels = torch.tensor(val_labels, dtype=torch.float32)\n",
    "test_images = torch.tensor(test_images, dtype=torch.float32)\n",
    "test_labels = torch.tensor(test_labels, dtype=torch.float32)"
   ]
  },
  {
   "cell_type": "code",
   "execution_count": 9,
   "id": "e91d07e1-1f9f-4970-a969-aab8bf2ea179",
   "metadata": {},
   "outputs": [],
   "source": [
    "# Creating the Datasets from the tensors\n",
    "\n",
    "class ImageDataset(Dataset):\n",
    "    def __init__(self, images, labels):\n",
    "        self.images = images\n",
    "        self.labels = labels\n",
    "\n",
    "    def __len__(self):\n",
    "        return len(self.images)\n",
    "\n",
    "    def __getitem__(self, idx):\n",
    "        return self.images[idx], self.labels[idx]\n",
    "\n",
    "train_dataset = ImageDataset(train_images, train_labels)\n",
    "val_dataset = ImageDataset(val_images, val_labels)\n",
    "test_dataset = ImageDataset(test_images, test_labels)\n",
    "\n",
    "# Creating DataLoaders\n",
    "train_loader = DataLoader(train_dataset, batch_size=32, shuffle=True)\n",
    "val_loader = DataLoader(val_dataset, batch_size=32, shuffle=False)\n",
    "test_loader = DataLoader(test_dataset, batch_size=32, shuffle=False)"
   ]
  },
  {
   "cell_type": "code",
   "execution_count": 10,
   "id": "571b63e3-b9d5-42e5-a9c1-1e5d3c31fc7e",
   "metadata": {},
   "outputs": [
    {
     "name": "stdout",
     "output_type": "stream",
     "text": [
      "Using device: cuda\n"
     ]
    }
   ],
   "source": [
    "# Choosing GPU for training\n",
    "\n",
    "device = torch.device(\"cuda\" if torch.cuda.is_available() else \"cpu\")\n",
    "print(f\"Using device: {device}\")"
   ]
  },
  {
   "cell_type": "code",
   "execution_count": 38,
   "id": "c432b411-c9bc-4a61-b0ed-d778620407e1",
   "metadata": {},
   "outputs": [],
   "source": [
    "# Defining the model and moving it to the gpu\n",
    "\n",
    "class CNNRegressor(nn.Module):\n",
    "    def __init__(self):\n",
    "        super(CNNRegressor, self).__init__()\n",
    "        self.conv_layers = nn.Sequential(\n",
    "            # Convolution layer 1\n",
    "            nn.Conv2d(1, 10, kernel_size=28, stride=1, padding=14),  # (N, 10, 40, 168)\n",
    "            nn.ReLU(),\n",
    "            nn.MaxPool2d(kernel_size=2, stride=2),  # (N, 10, 20, 84)\n",
    "            # Convolution layer 2\n",
    "            nn.Conv2d(10, 16, kernel_size=3, stride=1, padding=1),  # (N, 16, 20, 84)\n",
    "            nn.ReLU(),\n",
    "            nn.MaxPool2d(kernel_size=2, stride=2),  # (N, 16, 10, 42)\n",
    "            # Convolution layer 3\n",
    "            nn.Conv2d(16, 32, kernel_size=3, stride=1, padding=1),  # (N, 32, 10, 42)\n",
    "            nn.ReLU(),\n",
    "            nn.MaxPool2d(kernel_size=2, stride=2),  # (N, 32, 5, 21)\n",
    "        )\n",
    "        self.fc_layers = nn.Sequential(\n",
    "            nn.Flatten(),\n",
    "            # Fully connected layer 1\n",
    "            nn.Linear(32 * 5 * 21, 256),\n",
    "            nn.ReLU(),\n",
    "            \n",
    "            # # Fully connected layer 2\n",
    "            # nn.Linear(256, 64),\n",
    "            # nn.ReLU(),\n",
    "            # # Fully connected layer 3\n",
    "            # nn.Linear(64, 40),\n",
    "            # nn.ReLU(),\n",
    "            \n",
    "            # Fully connected layer 2\n",
    "            nn.Linear(256, 32),\n",
    "            nn.ReLU(),\n",
    "            # Fully connected layer 3\n",
    "            nn.Linear(32, 4),\n",
    "            nn.ReLU(),\n",
    "            # Fully connected layer 4\n",
    "            nn.Linear(4, 20),\n",
    "            nn.ReLU(),\n",
    "            # Fully connected layer 5\n",
    "            nn.Linear(20, 40),\n",
    "            nn.ReLU(),\n",
    "            \n",
    "            # Final layer for output\n",
    "            # nn.Linear(4, 1)  # Regression output\n",
    "        )\n",
    "\n",
    "    def forward(self, x):\n",
    "        # Running the convolution layers\n",
    "        x = self.conv_layers(x)\n",
    "        # Running the fully connected layers\n",
    "        x = self.fc_layers(x)\n",
    "        return x\n",
    "\n",
    "model = CNNRegressor().to(device)"
   ]
  },
  {
   "cell_type": "code",
   "execution_count": 39,
   "id": "59cf73a6-4f13-4eea-a6dc-e0e039f8fe19",
   "metadata": {},
   "outputs": [],
   "source": [
    "# Defining Loss and Optimizer\n",
    "criterion = nn.CrossEntropyLoss() # Cross Entropy loss is the mean absolute error\n",
    "optimizer = optim.Adam(model.parameters(), lr=0.001)\n"
   ]
  },
  {
   "cell_type": "code",
   "execution_count": 40,
   "id": "40a101ce-0a68-42bb-9e00-6c2689b41505",
   "metadata": {},
   "outputs": [],
   "source": [
    "# TQDM to keep track of the training\n",
    "from tqdm import tqdm"
   ]
  },
  {
   "cell_type": "code",
   "execution_count": 41,
   "id": "3e0fc76f-3cce-47a4-a2a3-a210510eb38f",
   "metadata": {},
   "outputs": [],
   "source": [
    "# Defining the training Loop\n",
    "\n",
    "def train_model(model, train_loader, val_loader, criterion, optimizer, epochs=10):\n",
    "    train_losses = []\n",
    "    validation_losses = []\n",
    "    \n",
    "    for epoch in tqdm(range(epochs)):\n",
    "        \n",
    "        model.train()\n",
    "        train_loss = 0\n",
    "        for images, labels in train_loader:\n",
    "            labels = labels.type(torch.LongTensor)\n",
    "            images, labels = images.to(device), labels.to(device)\n",
    "            # labels = labels.unsqueeze(1)  # Match output shape\n",
    "            optimizer.zero_grad()\n",
    "            outputs = model(images)\n",
    "            loss = criterion(outputs, labels)\n",
    "            loss.backward()\n",
    "            optimizer.step()\n",
    "            train_loss += loss.item()\n",
    "\n",
    "        val_loss = 0\n",
    "        model.eval()\n",
    "        with torch.no_grad():\n",
    "            for images, labels in val_loader:\n",
    "                labels = labels.type(torch.LongTensor)\n",
    "                images, labels = images.to(device), labels.to(device)\n",
    "                # labels = labels.unsqueeze(1)\n",
    "                outputs = model(images)\n",
    "                loss = criterion(outputs, labels)\n",
    "                val_loss += loss.item()\n",
    "\n",
    "        train_losses.append(train_loss/len(train_loader))\n",
    "        validation_losses.append(val_loss/len(val_loader))\n",
    "        \n",
    "        print(f\"Epoch {epoch+1}/{epochs}, Train Loss: {train_losses[-1]:.4f}, Val Loss: {validation_losses[-1]:.4f}\")\n",
    "\n",
    "    return (train_losses, validation_losses)\n"
   ]
  },
  {
   "cell_type": "code",
   "execution_count": 42,
   "id": "5ba97b2d-076b-4f6c-9d30-d65d5e2b8a17",
   "metadata": {},
   "outputs": [
    {
     "name": "stderr",
     "output_type": "stream",
     "text": [
      "  7%|███████████▊                                                                                                                                                                     | 1/15 [01:24<19:37, 84.09s/it]"
     ]
    },
    {
     "name": "stdout",
     "output_type": "stream",
     "text": [
      "Epoch 1/15, Train Loss: 3.6072, Val Loss: 3.5813\n"
     ]
    },
    {
     "name": "stderr",
     "output_type": "stream",
     "text": [
      " 13%|███████████████████████▌                                                                                                                                                         | 2/15 [02:48<18:16, 84.36s/it]"
     ]
    },
    {
     "name": "stdout",
     "output_type": "stream",
     "text": [
      "Epoch 2/15, Train Loss: 3.5765, Val Loss: 3.5811\n"
     ]
    },
    {
     "name": "stderr",
     "output_type": "stream",
     "text": [
      " 20%|███████████████████████████████████▍                                                                                                                                             | 3/15 [04:13<16:54, 84.54s/it]"
     ]
    },
    {
     "name": "stdout",
     "output_type": "stream",
     "text": [
      "Epoch 3/15, Train Loss: 3.5764, Val Loss: 3.5812\n"
     ]
    },
    {
     "name": "stderr",
     "output_type": "stream",
     "text": [
      " 27%|███████████████████████████████████████████████▏                                                                                                                                 | 4/15 [05:38<15:31, 84.65s/it]"
     ]
    },
    {
     "name": "stdout",
     "output_type": "stream",
     "text": [
      "Epoch 4/15, Train Loss: 3.5763, Val Loss: 3.5811\n"
     ]
    },
    {
     "name": "stderr",
     "output_type": "stream",
     "text": [
      " 33%|███████████████████████████████████████████████████████████                                                                                                                      | 5/15 [07:03<14:07, 84.70s/it]"
     ]
    },
    {
     "name": "stdout",
     "output_type": "stream",
     "text": [
      "Epoch 5/15, Train Loss: 3.5765, Val Loss: 3.5813\n"
     ]
    },
    {
     "name": "stderr",
     "output_type": "stream",
     "text": [
      " 40%|██████████████████████████████████████████████████████████████████████▊                                                                                                          | 6/15 [08:28<12:44, 84.90s/it]"
     ]
    },
    {
     "name": "stdout",
     "output_type": "stream",
     "text": [
      "Epoch 6/15, Train Loss: 3.5764, Val Loss: 3.5816\n"
     ]
    },
    {
     "name": "stderr",
     "output_type": "stream",
     "text": [
      " 47%|██████████████████████████████████████████████████████████████████████████████████▌                                                                                              | 7/15 [09:53<11:20, 85.06s/it]"
     ]
    },
    {
     "name": "stdout",
     "output_type": "stream",
     "text": [
      "Epoch 7/15, Train Loss: 3.5764, Val Loss: 3.5814\n"
     ]
    },
    {
     "name": "stderr",
     "output_type": "stream",
     "text": [
      " 53%|██████████████████████████████████████████████████████████████████████████████████████████████▍                                                                                  | 8/15 [11:19<09:56, 85.17s/it]"
     ]
    },
    {
     "name": "stdout",
     "output_type": "stream",
     "text": [
      "Epoch 8/15, Train Loss: 3.5763, Val Loss: 3.5810\n"
     ]
    },
    {
     "name": "stderr",
     "output_type": "stream",
     "text": [
      " 60%|██████████████████████████████████████████████████████████████████████████████████████████████████████████▏                                                                      | 9/15 [12:44<08:31, 85.23s/it]"
     ]
    },
    {
     "name": "stdout",
     "output_type": "stream",
     "text": [
      "Epoch 9/15, Train Loss: 3.5763, Val Loss: 3.5814\n"
     ]
    },
    {
     "name": "stderr",
     "output_type": "stream",
     "text": [
      " 67%|█████████████████████████████████████████████████████████████████████████████████████████████████████████████████████▎                                                          | 10/15 [14:09<07:06, 85.28s/it]"
     ]
    },
    {
     "name": "stdout",
     "output_type": "stream",
     "text": [
      "Epoch 10/15, Train Loss: 3.5763, Val Loss: 3.5814\n"
     ]
    },
    {
     "name": "stderr",
     "output_type": "stream",
     "text": [
      " 73%|█████████████████████████████████████████████████████████████████████████████████████████████████████████████████████████████████                                               | 11/15 [15:35<05:41, 85.32s/it]"
     ]
    },
    {
     "name": "stdout",
     "output_type": "stream",
     "text": [
      "Epoch 11/15, Train Loss: 3.5764, Val Loss: 3.5815\n"
     ]
    },
    {
     "name": "stderr",
     "output_type": "stream",
     "text": [
      " 80%|████████████████████████████████████████████████████████████████████████████████████████████████████████████████████████████████████████████▊                                   | 12/15 [17:00<04:16, 85.34s/it]"
     ]
    },
    {
     "name": "stdout",
     "output_type": "stream",
     "text": [
      "Epoch 12/15, Train Loss: 3.5764, Val Loss: 3.5814\n"
     ]
    },
    {
     "name": "stderr",
     "output_type": "stream",
     "text": [
      " 87%|████████████████████████████████████████████████████████████████████████████████████████████████████████████████████████████████████████████████████████▌                       | 13/15 [18:26<02:50, 85.37s/it]"
     ]
    },
    {
     "name": "stdout",
     "output_type": "stream",
     "text": [
      "Epoch 13/15, Train Loss: 3.5762, Val Loss: 3.5811\n"
     ]
    },
    {
     "name": "stderr",
     "output_type": "stream",
     "text": [
      " 93%|████████████████████████████████████████████████████████████████████████████████████████████████████████████████████████████████████████████████████████████████████▎           | 14/15 [19:51<01:25, 85.38s/it]"
     ]
    },
    {
     "name": "stdout",
     "output_type": "stream",
     "text": [
      "Epoch 14/15, Train Loss: 3.5763, Val Loss: 3.5811\n"
     ]
    },
    {
     "name": "stderr",
     "output_type": "stream",
     "text": [
      "100%|████████████████████████████████████████████████████████████████████████████████████████████████████████████████████████████████████████████████████████████████████████████████| 15/15 [21:16<00:00, 85.13s/it]"
     ]
    },
    {
     "name": "stdout",
     "output_type": "stream",
     "text": [
      "Epoch 15/15, Train Loss: 3.5762, Val Loss: 3.5810\n"
     ]
    },
    {
     "name": "stderr",
     "output_type": "stream",
     "text": [
      "\n"
     ]
    }
   ],
   "source": [
    "# Training the model for 15 initial epochs\n",
    "\n",
    "train_losses, validation_losses = train_model(model, train_loader, val_loader, criterion, optimizer, epochs=15)"
   ]
  },
  {
   "cell_type": "code",
   "execution_count": 43,
   "id": "336c311c-638a-4b3f-bcb8-dc340b395b6c",
   "metadata": {},
   "outputs": [],
   "source": [
    "# Training the model for 35 more epochs\n",
    "\n",
    "# train_losses, validation_losses = train_model(model, train_loader, val_loader, criterion, optimizer, epochs=35)"
   ]
  },
  {
   "cell_type": "code",
   "execution_count": 44,
   "id": "ae9cc566-dd82-4ff2-9504-29505dc71bef",
   "metadata": {},
   "outputs": [
    {
     "data": {
      "image/png": "[encoded data removed]",
      "text/plain": [
       "<Figure size 640x480 with 1 Axes>"
      ]
     },
     "metadata": {},
     "output_type": "display_data"
    }
   ],
   "source": [
    "plt.plot(train_losses)\n",
    "plt.xlabel(\"Epochs\")\n",
    "plt.ylabel(\"Loss (MAE)\")\n",
    "plt.title(\"Training loss\")\n",
    "plt.show()"
   ]
  },
  {
   "cell_type": "code",
   "execution_count": 45,
   "id": "a510e724-f444-445e-a883-dc2201c989b7",
   "metadata": {},
   "outputs": [
    {
     "data": {
      "image/png": "[encoded data removed]",
      "text/plain": [
       "<Figure size 640x480 with 1 Axes>"
      ]
     },
     "metadata": {},
     "output_type": "display_data"
    }
   ],
   "source": [
    "plt.plot(validation_losses)\n",
    "plt.xlabel(\"Epochs\")\n",
    "plt.ylabel(\"Loss (MAE)\")\n",
    "plt.title(\"Validation loss\")\n",
    "plt.show()"
   ]
  },
  {
   "cell_type": "code",
   "execution_count": 47,
   "id": "c41fb5a0-a4de-4052-95f9-c94654871fa3",
   "metadata": {},
   "outputs": [],
   "source": [
    "# Save the model\n",
    "\n",
    "torch.save(model.state_dict(), \"model.pth\")"
   ]
  },
  {
   "cell_type": "code",
   "execution_count": null,
   "id": "1b0e4ca8-d146-477a-bfc1-f6875a85aeee",
   "metadata": {},
   "outputs": [],
   "source": []
  },
  {
   "cell_type": "code",
   "execution_count": 46,
   "id": "cfaf3348-d889-4d70-842d-65fb413dc325",
   "metadata": {},
   "outputs": [
    {
     "name": "stdout",
     "output_type": "stream",
     "text": [
      "Test Loss: 3.5894\n"
     ]
    }
   ],
   "source": [
    "# Testing the Model on the test dataset with L1 loss\n",
    "\n",
    "l1l = nn.L1Loss()\n",
    "\n",
    "def evaluate_model_L1(model, test_loader):\n",
    "    model.eval()\n",
    "    test_loss = 0\n",
    "    with torch.no_grad():\n",
    "        for images, labels in test_loader:\n",
    "            images, labels = images.to(device), labels.to(device)\n",
    "            # labels = labels.unsqueeze(1)\n",
    "            outputs = model(images)\n",
    "            argmax_outputs = torch.argmax(outputs, dim=1)\n",
    "            loss = l1l(argmax_outputs, labels)\n",
    "            test_loss += loss.item()\n",
    "    print(f\"Test Loss: {test_loss/len(test_loader):.4f}\")\n",
    "    return [labels, outputs]\n",
    "\n",
    "l,o = evaluate_model(model, test_loader)\n"
   ]
  },
  {
   "cell_type": "code",
   "execution_count": 48,
   "id": "1024d935-e425-4b70-842b-ea6698626ff4",
   "metadata": {},
   "outputs": [
    {
     "name": "stdout",
     "output_type": "stream",
     "text": [
      "Test Loss: 3.5894\n"
     ]
    }
   ],
   "source": [
    "# Testing the Model on the test dataset\n",
    "\n",
    "def evaluate_model_CE(model, test_loader):\n",
    "    model.eval()\n",
    "    test_loss = 0\n",
    "    with torch.no_grad():\n",
    "        for images, labels in test_loader:\n",
    "            labels = labels.type(torch.LongTensor)\n",
    "            images, labels = images.to(device), labels.to(device)\n",
    "            # labels = labels.unsqueeze(1)\n",
    "            outputs = model(images)\n",
    "            loss = criterion(outputs, labels)\n",
    "            test_loss += loss.item()\n",
    "    print(f\"Test Loss: {test_loss/len(test_loader):.4f}\")\n",
    "    return [labels, outputs]\n",
    "\n",
    "l,o = evaluate_model(model, test_loader)"
   ]
  },
  {
   "cell_type": "code",
   "execution_count": 49,
   "id": "f5f1b4bd-a284-4216-8c66-9ea3edd32ad6",
   "metadata": {},
   "outputs": [
    {
     "name": "stdout",
     "output_type": "stream",
     "text": [
      "Accuracy: 0.056\n"
     ]
    }
   ],
   "source": [
    "# Testing accuracy\n",
    "\n",
    "def evaluate_accuracy(model, test_loader):\n",
    "    model.eval()\n",
    "    test_loss = 0\n",
    "    with torch.no_grad():\n",
    "        for images, labels in test_loader:\n",
    "            images, labels = images.to(device), labels.to(device)\n",
    "            # labels = labels.unsqueeze(1)\n",
    "            outputs = model(images)\n",
    "            argmax_outputs = torch.argmax(outputs, dim=1)\n",
    "            correct_predictions = (argmax_outputs == labels).sum().item()\n",
    "            test_loss += correct_predictions\n",
    "    # print(f\"Test Loss: {test_loss/len(test_loader):.4f}\")\n",
    "    print(\"Accuracy:\", test_loss/len(test_dataset))\n",
    "    return [labels, outputs]\n",
    "\n",
    "l,o = evaluate_accuracy(model, test_loader)"
   ]
  },
  {
   "cell_type": "code",
   "execution_count": null,
   "id": "64e9ca00-0ebb-4e16-9155-a7fde2b7c8c6",
   "metadata": {},
   "outputs": [],
   "source": []
  },
  {
   "cell_type": "code",
   "execution_count": 35,
   "id": "bc218b36-b84d-43aa-8932-b49b1a189a37",
   "metadata": {},
   "outputs": [
    {
     "name": "stderr",
     "output_type": "stream",
     "text": [
      " 10%|█████████████████▋                                                                                                                                                               | 1/10 [01:23<12:32, 83.63s/it]"
     ]
    },
    {
     "name": "stdout",
     "output_type": "stream",
     "text": [
      "Epoch 1/10, Train Loss: 3.2654, Val Loss: 3.2458\n"
     ]
    },
    {
     "name": "stderr",
     "output_type": "stream",
     "text": [
      " 20%|███████████████████████████████████▍                                                                                                                                             | 2/10 [02:47<11:10, 83.79s/it]"
     ]
    },
    {
     "name": "stdout",
     "output_type": "stream",
     "text": [
      "Epoch 2/10, Train Loss: 3.1889, Val Loss: 3.1969\n"
     ]
    },
    {
     "name": "stderr",
     "output_type": "stream",
     "text": [
      " 30%|█████████████████████████████████████████████████████                                                                                                                            | 3/10 [04:11<09:47, 83.87s/it]"
     ]
    },
    {
     "name": "stdout",
     "output_type": "stream",
     "text": [
      "Epoch 3/10, Train Loss: 3.1225, Val Loss: 3.2082\n"
     ]
    },
    {
     "name": "stderr",
     "output_type": "stream",
     "text": [
      " 40%|██████████████████████████████████████████████████████████████████████▊                                                                                                          | 4/10 [05:36<08:24, 84.13s/it]"
     ]
    },
    {
     "name": "stdout",
     "output_type": "stream",
     "text": [
      "Epoch 4/10, Train Loss: 3.0689, Val Loss: 3.1931\n"
     ]
    },
    {
     "name": "stderr",
     "output_type": "stream",
     "text": [
      " 50%|████████████████████████████████████████████████████████████████████████████████████████▌                                                                                        | 5/10 [07:00<07:01, 84.28s/it]"
     ]
    },
    {
     "name": "stdout",
     "output_type": "stream",
     "text": [
      "Epoch 5/10, Train Loss: 3.0237, Val Loss: 3.2503\n"
     ]
    },
    {
     "name": "stderr",
     "output_type": "stream",
     "text": [
      " 60%|██████████████████████████████████████████████████████████████████████████████████████████████████████████▏                                                                      | 6/10 [08:25<05:37, 84.38s/it]"
     ]
    },
    {
     "name": "stdout",
     "output_type": "stream",
     "text": [
      "Epoch 6/10, Train Loss: 2.9701, Val Loss: 3.2077\n"
     ]
    },
    {
     "name": "stderr",
     "output_type": "stream",
     "text": [
      " 70%|███████████████████████████████████████████████████████████████████████████████████████████████████████████████████████████▉                                                     | 7/10 [09:49<04:13, 84.42s/it]"
     ]
    },
    {
     "name": "stdout",
     "output_type": "stream",
     "text": [
      "Epoch 7/10, Train Loss: 2.9039, Val Loss: 3.2748\n"
     ]
    },
    {
     "name": "stderr",
     "output_type": "stream",
     "text": [
      " 80%|█████████████████████████████████████████████████████████████████████████████████████████████████████████████████████████████████████████████▌                                   | 8/10 [11:14<02:48, 84.46s/it]"
     ]
    },
    {
     "name": "stdout",
     "output_type": "stream",
     "text": [
      "Epoch 8/10, Train Loss: 2.8397, Val Loss: 3.3007\n"
     ]
    },
    {
     "name": "stderr",
     "output_type": "stream",
     "text": [
      " 90%|███████████████████████████████████████████████████████████████████████████████████████████████████████████████████████████████████████████████████████████████▎                 | 9/10 [12:39<01:24, 84.59s/it]"
     ]
    },
    {
     "name": "stdout",
     "output_type": "stream",
     "text": [
      "Epoch 9/10, Train Loss: 2.7648, Val Loss: 3.4181\n"
     ]
    },
    {
     "name": "stderr",
     "output_type": "stream",
     "text": [
      "100%|████████████████████████████████████████████████████████████████████████████████████████████████████████████████████████████████████████████████████████████████████████████████| 10/10 [14:04<00:00, 84.41s/it]"
     ]
    },
    {
     "name": "stdout",
     "output_type": "stream",
     "text": [
      "Epoch 10/10, Train Loss: 2.6947, Val Loss: 3.4474\n"
     ]
    },
    {
     "name": "stderr",
     "output_type": "stream",
     "text": [
      "\n"
     ]
    },
    {
     "name": "stdout",
     "output_type": "stream",
     "text": [
      "Accuracy: 0.13066666666666665\n"
     ]
    },
    {
     "data": {
      "text/plain": [
       "[tensor([13.,  8., 22., 11., 15., 19., 18., 15., 14., 28., 12., 16., 23., 23.,\n",
       "         15., 17., 12., 30., 15., 19., 15., 14., 19., 13.], device='cuda:0'),\n",
       " tensor([[0.0000, 0.0000, 0.0000, 0.0000, 0.0000, 0.0000, 0.0000, 0.0000, 0.0000,\n",
       "          0.0000, 2.2608, 0.0000, 0.0000, 3.1178, 1.7488, 0.5503, 0.0000, 0.0000,\n",
       "          0.0000, 0.0000, 0.0000, 0.0000, 0.0000, 0.0000, 0.0000, 0.0000, 0.0000,\n",
       "          0.0000, 0.0000, 0.0000, 0.0000, 0.0000, 0.0000, 0.0000, 0.0000, 0.0000,\n",
       "          0.0000, 0.0000, 0.0000, 0.0000],\n",
       "         [0.0000, 0.0000, 0.0000, 0.0000, 0.0000, 0.0000, 0.0000, 0.0000, 0.0000,\n",
       "          0.0000, 0.9094, 0.0000, 0.0000, 0.0000, 0.0000, 0.0000, 0.0000, 0.0000,\n",
       "          0.0000, 0.0000, 0.0000, 0.0000, 0.0000, 0.0000, 0.0000, 0.0000, 0.0000,\n",
       "          0.0000, 0.0000, 0.0000, 0.0000, 0.0000, 0.0000, 0.0000, 0.0000, 0.0000,\n",
       "          0.0000, 0.0000, 0.0000, 0.0000],\n",
       "         [0.0000, 0.0000, 0.0000, 0.0000, 0.0000, 0.0000, 0.0000, 0.0000, 0.0000,\n",
       "          0.0000, 0.0000, 0.0000, 0.0000, 0.0000, 0.0000, 0.0000, 0.0000, 0.5181,\n",
       "          0.0000, 0.0000, 0.0000, 0.1275, 0.0879, 0.0000, 0.0000, 0.0000, 0.0000,\n",
       "          0.0000, 0.0000, 0.0000, 0.0000, 0.0000, 0.0000, 0.0000, 0.0000, 0.0000,\n",
       "          0.0000, 0.0000, 0.0000, 0.0000],\n",
       "         [0.0000, 0.0000, 0.0000, 0.0000, 0.0000, 0.0000, 0.0000, 0.0000, 0.0000,\n",
       "          0.0000, 0.5768, 0.0000, 0.0000, 3.0207, 2.5500, 2.0960, 0.4016, 0.0000,\n",
       "          0.0000, 0.0000, 0.0000, 0.0000, 0.0000, 0.0000, 0.0000, 0.0000, 0.0000,\n",
       "          0.0000, 0.0000, 0.0000, 0.0000, 0.0000, 0.0000, 0.0000, 0.0000, 0.0000,\n",
       "          0.0000, 0.0000, 0.0000, 0.0000],\n",
       "         [0.0000, 0.0000, 0.0000, 0.0000, 0.0000, 0.0000, 0.0000, 0.0000, 0.0000,\n",
       "          0.0000, 2.7964, 0.0000, 0.0000, 0.0000, 0.0000, 0.0000, 0.0000, 0.0000,\n",
       "          0.0000, 0.0000, 0.0000, 0.0000, 0.0000, 0.0000, 0.0000, 0.0000, 0.0000,\n",
       "          0.0000, 0.0000, 0.0000, 0.0000, 0.0000, 0.0000, 0.0000, 0.0000, 0.0000,\n",
       "          0.0000, 0.0000, 0.0000, 0.0000],\n",
       "         [0.0000, 0.0000, 0.0000, 0.0000, 0.0000, 0.0000, 0.0000, 0.0000, 0.0000,\n",
       "          0.0000, 0.0000, 0.0000, 0.0000, 0.4220, 0.9806, 2.1203, 1.1427, 2.6089,\n",
       "          0.0000, 0.0000, 0.0000, 0.0000, 0.0000, 0.0000, 0.0000, 0.0000, 0.0000,\n",
       "          0.0000, 0.0000, 0.0000, 0.0000, 0.0000, 0.0000, 0.0000, 0.0000, 0.0000,\n",
       "          0.0000, 0.0000, 0.0000, 0.0000],\n",
       "         [0.0000, 0.0000, 0.0000, 0.0000, 0.0000, 0.0000, 0.0000, 0.0000, 0.0000,\n",
       "          0.0000, 0.0000, 0.0000, 0.0000, 0.0000, 1.7609, 2.5835, 1.9237, 2.2081,\n",
       "          0.0000, 0.0000, 0.0000, 0.0000, 0.0000, 0.0000, 0.0000, 0.0000, 0.0000,\n",
       "          0.0000, 0.0000, 0.0000, 0.0000, 0.0000, 0.0000, 0.0000, 0.0000, 0.0000,\n",
       "          0.0000, 0.0000, 0.0000, 0.0000],\n",
       "         [0.0000, 0.0000, 0.0000, 0.0000, 0.0000, 0.0000, 0.0000, 0.0000, 0.0000,\n",
       "          0.0000, 0.6696, 0.0000, 0.0000, 4.1411, 5.0634, 4.9176, 3.8686, 2.5006,\n",
       "          0.0000, 0.0000, 0.0000, 0.0000, 0.0000, 0.0000, 0.0000, 0.0000, 0.0000,\n",
       "          0.0000, 0.0000, 0.0000, 0.0000, 0.0000, 0.0000, 0.0000, 0.0000, 0.0000,\n",
       "          0.0000, 0.0000, 0.0000, 0.0000],\n",
       "         [0.0000, 0.0000, 0.0000, 0.0000, 0.0000, 0.0000, 0.0000, 0.0000, 0.0000,\n",
       "          0.0000, 0.2918, 0.0000, 0.0000, 3.0510, 2.4664, 2.1697, 0.1006, 0.0000,\n",
       "          0.0000, 0.0000, 0.0000, 0.0000, 0.0000, 0.0000, 0.0000, 0.0000, 0.0000,\n",
       "          0.0000, 0.0000, 0.0000, 0.0000, 0.0000, 0.0000, 0.0000, 0.0000, 0.0000,\n",
       "          0.0000, 0.0000, 0.0000, 0.0000],\n",
       "         [0.0000, 0.0000, 0.0000, 0.0000, 0.0000, 0.0000, 0.0000, 0.0000, 0.0000,\n",
       "          0.0000, 0.0000, 0.0000, 0.0000, 0.0000, 0.0000, 0.0000, 0.0000, 0.0000,\n",
       "          0.0000, 0.0000, 0.0000, 0.0000, 0.0000, 0.0000, 0.0000, 1.4853, 1.9687,\n",
       "          2.9533, 0.0000, 0.0000, 1.0729, 0.0000, 0.0000, 0.0000, 0.0000, 0.0000,\n",
       "          0.0000, 0.0000, 0.0000, 0.0000],\n",
       "         [0.0000, 0.0000, 0.0000, 0.0000, 0.0000, 0.0000, 0.0000, 0.0000, 0.0000,\n",
       "          0.0000, 2.4862, 0.0000, 0.0000, 3.4555, 1.8894, 2.0560, 0.0000, 0.0000,\n",
       "          0.0000, 0.0000, 0.0000, 0.0000, 0.0000, 0.0000, 0.0000, 0.0000, 0.0000,\n",
       "          0.0000, 0.0000, 0.0000, 0.0000, 0.0000, 0.0000, 0.0000, 0.0000, 0.0000,\n",
       "          0.0000, 0.0000, 0.0000, 0.0000],\n",
       "         [0.0000, 0.0000, 0.0000, 0.0000, 0.0000, 0.0000, 0.0000, 0.0000, 0.0000,\n",
       "          0.0000, 0.0000, 0.0000, 0.0000, 4.7949, 5.7134, 5.8046, 4.3825, 3.4529,\n",
       "          0.0000, 0.0000, 0.0000, 0.0000, 0.0000, 0.0000, 0.0000, 0.0000, 0.0000,\n",
       "          0.0000, 0.0000, 0.0000, 0.0000, 0.0000, 0.0000, 0.0000, 0.0000, 0.0000,\n",
       "          0.0000, 0.0000, 0.0000, 0.0000],\n",
       "         [0.0000, 0.0000, 0.0000, 0.0000, 0.0000, 0.0000, 0.0000, 0.0000, 0.0000,\n",
       "          0.0000, 0.0000, 0.0000, 0.0000, 0.0000, 0.0000, 0.0000, 0.0000, 0.0000,\n",
       "          0.0000, 0.0000, 0.0000, 1.1224, 1.9382, 0.0000, 0.0000, 0.0000, 0.0000,\n",
       "          0.0000, 0.0000, 0.0000, 0.0000, 0.0000, 0.0000, 0.0000, 0.0000, 0.0000,\n",
       "          0.0000, 0.0000, 0.0000, 0.0000],\n",
       "         [0.0000, 0.0000, 0.0000, 0.0000, 0.0000, 0.0000, 0.0000, 0.0000, 0.0000,\n",
       "          0.0000, 0.0000, 0.0000, 0.0000, 0.0000, 0.0000, 0.0000, 0.0000, 0.0000,\n",
       "          0.0000, 0.0000, 0.0000, 1.2373, 0.1232, 2.4958, 0.0000, 0.1132, 0.0000,\n",
       "          0.0000, 0.0000, 0.0000, 0.0000, 0.0000, 0.0000, 0.0000, 0.0000, 0.0000,\n",
       "          0.0000, 0.0000, 0.0000, 0.0000],\n",
       "         [0.0000, 0.0000, 0.0000, 0.0000, 0.0000, 0.0000, 0.0000, 0.0000, 0.0000,\n",
       "          0.0000, 0.0000, 0.0000, 0.0000, 1.6603, 2.6851, 3.1102, 2.8459, 2.3244,\n",
       "          0.0000, 0.0000, 0.0000, 0.0000, 0.0000, 0.0000, 0.0000, 0.0000, 0.0000,\n",
       "          0.0000, 0.0000, 0.0000, 0.0000, 0.0000, 0.0000, 0.0000, 0.0000, 0.0000,\n",
       "          0.0000, 0.0000, 0.0000, 0.0000],\n",
       "         [0.0000, 0.0000, 0.0000, 0.0000, 0.0000, 0.0000, 0.0000, 0.0000, 0.0000,\n",
       "          0.0000, 0.0000, 0.0000, 0.0000, 0.0000, 0.0000, 0.0000, 0.0000, 0.5470,\n",
       "          0.0000, 0.0000, 0.0000, 0.0000, 0.0000, 0.0000, 0.0000, 0.0000, 0.0000,\n",
       "          0.0000, 0.0000, 0.0000, 0.0000, 0.0000, 0.0000, 0.0000, 0.0000, 0.0000,\n",
       "          0.0000, 0.0000, 0.0000, 0.0000],\n",
       "         [0.0000, 0.0000, 0.0000, 0.0000, 0.0000, 0.0000, 0.0000, 0.0000, 0.0000,\n",
       "          0.0000, 0.0885, 0.0000, 0.0000, 3.8987, 3.8091, 3.5503, 1.8740, 1.4034,\n",
       "          0.0000, 0.0000, 0.0000, 0.0000, 0.0000, 0.0000, 0.0000, 0.0000, 0.0000,\n",
       "          0.0000, 0.0000, 0.0000, 0.0000, 0.0000, 0.0000, 0.0000, 0.0000, 0.0000,\n",
       "          0.0000, 0.0000, 0.0000, 0.0000],\n",
       "         [0.0000, 0.0000, 0.0000, 0.0000, 0.0000, 0.0000, 0.0000, 0.0000, 0.0000,\n",
       "          0.0000, 0.0000, 0.0000, 0.0000, 0.0000, 0.0000, 0.0000, 0.0000, 0.0000,\n",
       "          0.0000, 0.0000, 0.0000, 0.0000, 0.0000, 0.0000, 0.0000, 0.0000, 0.5177,\n",
       "          1.3866, 0.0000, 0.0000, 2.8775, 0.0000, 2.7862, 0.0000, 0.0000, 0.0000,\n",
       "          0.0000, 0.0000, 0.0000, 0.0000],\n",
       "         [0.0000, 0.0000, 0.0000, 0.0000, 0.0000, 0.0000, 0.0000, 0.0000, 0.0000,\n",
       "          0.0000, 0.0000, 0.0000, 0.0000, 0.0000, 0.0000, 0.3053, 1.4618, 2.0814,\n",
       "          0.0000, 0.0000, 0.0000, 2.5394, 0.7875, 0.0000, 0.0000, 0.0000, 0.0000,\n",
       "          0.0000, 0.0000, 0.0000, 0.0000, 0.0000, 0.0000, 0.0000, 0.0000, 0.0000,\n",
       "          0.0000, 0.0000, 0.0000, 0.0000],\n",
       "         [0.0000, 0.0000, 0.0000, 0.0000, 0.0000, 0.0000, 0.0000, 0.0000, 0.0000,\n",
       "          0.0000, 0.0000, 0.0000, 0.0000, 0.2949, 2.1858, 2.8044, 2.1175, 1.9265,\n",
       "          0.0000, 0.0000, 0.0000, 0.0000, 0.0000, 0.0000, 0.0000, 0.0000, 0.0000,\n",
       "          0.0000, 0.0000, 0.0000, 0.0000, 0.0000, 0.0000, 0.0000, 0.0000, 0.0000,\n",
       "          0.0000, 0.0000, 0.0000, 0.0000],\n",
       "         [0.0000, 0.0000, 0.0000, 0.0000, 0.0000, 0.0000, 0.0000, 0.0000, 0.0000,\n",
       "          0.0000, 0.5531, 0.0000, 0.0000, 6.6410, 5.9757, 5.7349, 3.6358, 2.9766,\n",
       "          0.0000, 0.0000, 0.0000, 0.0000, 0.0000, 0.0000, 0.0000, 0.0000, 0.0000,\n",
       "          0.0000, 0.0000, 0.0000, 0.0000, 0.0000, 0.0000, 0.0000, 0.0000, 0.0000,\n",
       "          0.0000, 0.0000, 0.0000, 0.0000],\n",
       "         [0.0000, 0.0000, 0.0000, 0.0000, 0.0000, 0.0000, 0.0000, 0.0000, 0.0000,\n",
       "          0.0000, 0.0000, 0.0000, 0.0000, 2.9760, 4.0379, 4.9743, 4.2384, 3.9277,\n",
       "          0.0000, 0.0000, 0.0000, 0.0000, 0.0000, 0.0000, 0.0000, 0.0000, 0.0000,\n",
       "          0.0000, 0.0000, 0.0000, 0.0000, 0.0000, 0.0000, 0.0000, 0.0000, 0.0000,\n",
       "          0.0000, 0.0000, 0.0000, 0.0000],\n",
       "         [0.0000, 0.0000, 0.0000, 0.0000, 0.0000, 0.0000, 0.0000, 0.0000, 0.0000,\n",
       "          0.0000, 0.0000, 0.0000, 0.0000, 0.0000, 0.0000, 0.0000, 1.7885, 2.5004,\n",
       "          0.0000, 0.0000, 0.0000, 0.3394, 1.2918, 0.0000, 0.0000, 0.0000, 0.0000,\n",
       "          0.0000, 0.0000, 0.0000, 0.0000, 0.0000, 0.0000, 0.0000, 0.0000, 0.0000,\n",
       "          0.0000, 0.0000, 0.0000, 0.0000],\n",
       "         [0.0000, 0.0000, 0.0000, 0.0000, 0.0000, 0.0000, 0.0000, 0.0000, 0.0000,\n",
       "          0.0000, 2.7249, 0.0000, 0.0000, 1.7970, 0.0000, 0.0000, 0.0000, 0.0000,\n",
       "          0.0000, 0.0000, 0.0000, 0.0000, 0.0000, 0.0000, 0.0000, 0.0000, 0.0000,\n",
       "          0.0000, 0.0000, 0.0000, 0.0000, 0.0000, 0.0000, 0.0000, 0.0000, 0.0000,\n",
       "          0.0000, 0.0000, 0.0000, 0.0000]], device='cuda:0')]"
      ]
     },
     "execution_count": 35,
     "metadata": {},
     "output_type": "execute_result"
    }
   ],
   "source": [
    "# train_losses, validation_losses = train_model(model, train_loader, val_loader, criterion, optimizer, epochs=10)\n",
    "# evaluate_accuracy(model, test_loader)"
   ]
  },
  {
   "cell_type": "code",
   "execution_count": 37,
   "id": "8bbc3fb7-1077-4576-a96a-74faf88d82d8",
   "metadata": {},
   "outputs": [
    {
     "name": "stdout",
     "output_type": "stream",
     "text": [
      "Test Loss: 3.4369\n"
     ]
    }
   ],
   "source": [
    "l,o = evaluate_model(model, test_loader)"
   ]
  },
  {
   "cell_type": "code",
   "execution_count": 36,
   "id": "60ef5243-8980-4786-89cf-67fab75e4dcc",
   "metadata": {},
   "outputs": [
    {
     "data": {
      "image/png": "[encoded data removed]",
      "text/plain": [
       "<Figure size 640x480 with 1 Axes>"
      ]
     },
     "metadata": {},
     "output_type": "display_data"
    }
   ],
   "source": [
    "plt.plot(train_losses)\n",
    "plt.xlabel(\"Epochs\")\n",
    "plt.ylabel(\"Loss (MAE)\")\n",
    "plt.title(\"Training loss\")\n",
    "plt.show()"
   ]
  },
  {
   "cell_type": "code",
   "execution_count": null,
   "id": "e223e857-97ed-4a9a-a27d-e5b975925c22",
   "metadata": {},
   "outputs": [],
   "source": []
  },
  {
   "cell_type": "code",
   "execution_count": 18,
   "id": "11b629fc-3b28-41f0-a393-269844f05444",
   "metadata": {},
   "outputs": [
    {
     "name": "stdout",
     "output_type": "stream",
     "text": [
      "Actual\t:\tPredicted\t:\tDiffrence\n",
      "13.0 \t:\t 12.023143768310547 \t:\t -0.9768562316894531\n",
      "8.0 \t:\t 7.0523881912231445 \t:\t -0.9476118087768555\n",
      "22.0 \t:\t 23.7950496673584 \t:\t 1.7950496673583984\n",
      "11.0 \t:\t 10.127303123474121 \t:\t -0.8726968765258789\n",
      "15.0 \t:\t 14.909523963928223 \t:\t -0.09047603607177734\n",
      "19.0 \t:\t 19.951597213745117 \t:\t 0.9515972137451172\n",
      "18.0 \t:\t 18.037399291992188 \t:\t 0.0373992919921875\n",
      "15.0 \t:\t 15.052903175354004 \t:\t 0.052903175354003906\n",
      "14.0 \t:\t 15.035238265991211 \t:\t 1.035238265991211\n",
      "28.0 \t:\t 30.039779663085938 \t:\t 2.0397796630859375\n",
      "12.0 \t:\t 12.84731388092041 \t:\t 0.8473138809204102\n",
      "16.0 \t:\t 16.27943229675293 \t:\t 0.2794322967529297\n",
      "23.0 \t:\t 21.265348434448242 \t:\t -1.7346515655517578\n",
      "23.0 \t:\t 24.823923110961914 \t:\t 1.823923110961914\n",
      "15.0 \t:\t 16.493295669555664 \t:\t 1.493295669555664\n",
      "17.0 \t:\t 16.891489028930664 \t:\t -0.10851097106933594\n",
      "12.0 \t:\t 14.995077133178711 \t:\t 2.995077133178711\n",
      "30.0 \t:\t 30.147348403930664 \t:\t 0.14734840393066406\n",
      "15.0 \t:\t 16.670658111572266 \t:\t 1.6706581115722656\n",
      "19.0 \t:\t 19.182950973510742 \t:\t 0.1829509735107422\n",
      "15.0 \t:\t 18.836015701293945 \t:\t 3.8360157012939453\n",
      "14.0 \t:\t 13.750544548034668 \t:\t -0.24945545196533203\n",
      "19.0 \t:\t 19.082361221313477 \t:\t 0.08236122131347656\n",
      "13.0 \t:\t 14.116914749145508 \t:\t 1.1169147491455078\n"
     ]
    }
   ],
   "source": [
    "# A set of the predicted values for comparison\n",
    "\n",
    "print(\"Actual\\t:\\tPredicted\\t:\\tDiffrence\")\n",
    "for el in range(len(l)):\n",
    "    print(float(l[el][0]), \"\\t:\\t\", float(o[el][0]), \"\\t:\\t\", float(o[el][0] - l[el][0]))"
   ]
  },
  {
   "cell_type": "code",
   "execution_count": null,
   "id": "24a774d3-f047-4bdf-b941-8b70b0d7a071",
   "metadata": {},
   "outputs": [],
   "source": []
  },
  {
   "cell_type": "code",
   "execution_count": null,
   "id": "b309c2a7-77fb-41e0-8783-2c97618562ed",
   "metadata": {},
   "outputs": [],
   "source": [
    "# Defining the Classification model, loading it and moving it to the gpu\n",
    "\n",
    "class CNNClassifier(nn.Module):\n",
    "    def __init__(self):\n",
    "        super(CNNRegressor, self).__init__()\n",
    "        self.conv_layers = nn.Sequential(\n",
    "            # Convolution layer 1\n",
    "            nn.Conv2d(1, 10, kernel_size=28, stride=1, padding=14),  # (N, 10, 40, 168)\n",
    "            nn.ReLU(),\n",
    "            nn.MaxPool2d(kernel_size=2, stride=2),  # (N, 10, 20, 84)\n",
    "            # Convolution layer 2\n",
    "            nn.Conv2d(10, 16, kernel_size=3, stride=1, padding=1),  # (N, 16, 20, 84)\n",
    "            nn.ReLU(),\n",
    "            nn.MaxPool2d(kernel_size=2, stride=2),  # (N, 16, 10, 42)\n",
    "            # Convolution layer 3\n",
    "            nn.Conv2d(16, 32, kernel_size=3, stride=1, padding=1),  # (N, 32, 10, 42)\n",
    "            nn.ReLU(),\n",
    "            nn.MaxPool2d(kernel_size=2, stride=2),  # (N, 32, 5, 21)\n",
    "        )\n",
    "        self.fc_layers = nn.Sequential(\n",
    "            nn.Flatten(),\n",
    "            # Fully connected layer 1\n",
    "            nn.Linear(32 * 5 * 21, 256),\n",
    "            nn.ReLU(),\n",
    "            # Fully connected layer 2\n",
    "            nn.Linear(256, 40),\n",
    "        )\n",
    "\n",
    "    def forward(self, x):\n",
    "        # Running the convolution layers\n",
    "        x = self.conv_layers(x)\n",
    "        # Running the fully connected layers\n",
    "        x = self.fc_layers(x)\n",
    "        return x\n",
    "\n",
    "model = CNNClassifier().to(device)\n",
    "model.load_state_dict(torch.load('model.pth', weights_only=True))"
   ]
  }
 ],
 "metadata": {
  "kernelspec": {
   "display_name": "Python 3 (ipykernel)",
   "language": "python",
   "name": "python3"
  },
  "language_info": {
   "codemirror_mode": {
    "name": "ipython",
    "version": 3
   },
   "file_extension": ".py",
   "mimetype": "text/x-python",
   "name": "python",
   "nbconvert_exporter": "python",
   "pygments_lexer": "ipython3",
   "version": "3.13.1"
  }
 },
 "nbformat": 4,
 "nbformat_minor": 5
}
