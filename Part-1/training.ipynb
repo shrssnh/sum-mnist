{
 "cells": [
  {
   "cell_type": "code",
   "execution_count": 1,
   "id": "0b34ac7d-0707-44ab-805f-4c5c8749ad89",
   "metadata": {},
   "outputs": [],
   "source": [
    "# Imports\n",
    "\n",
    "import numpy as np\n",
    "import matplotlib.pyplot as plt\n",
    "import torch\n",
    "import torch.nn as nn\n",
    "import torch.optim as optim\n",
    "from torch.utils.data import DataLoader, Dataset, random_split\n",
    "from sklearn.model_selection import train_test_split"
   ]
  },
  {
   "cell_type": "code",
   "execution_count": 2,
   "id": "28f5a95c-fdc0-42cc-b224-ca268f25f86b",
   "metadata": {},
   "outputs": [],
   "source": [
    "# Importing training data\n",
    "\n",
    "train_data1 = np.load('../DL-Project/data0.npy')\n",
    "train_lab1 = np.load('../DL-Project/lab0.npy')\n",
    "\n",
    "train_data2 = np.load('../DL-Project/data1.npy')\n",
    "train_lab2 = np.load('../DL-Project/lab1.npy')\n",
    "\n",
    "train_data3 = np.load('../DL-Project/data2.npy')\n",
    "train_lab3 = np.load('../DL-Project/lab2.npy')\n"
   ]
  },
  {
   "cell_type": "code",
   "execution_count": 3,
   "id": "da2cb73c-95e7-4fb3-883a-db47e28e9a99",
   "metadata": {},
   "outputs": [],
   "source": [
    "# Preprocessing - normalizing the image and adding new dimension for convolutions\n",
    "\n",
    "images = np.concatenate((train_data1, train_data2, train_data3)) / 255\n",
    "labels = np.concatenate((train_lab1, train_lab2, train_lab3))\n",
    "\n",
    "images = images[:, np.newaxis, :, :]"
   ]
  },
  {
   "cell_type": "code",
   "execution_count": 4,
   "id": "bb29eb36-f1ba-4ee6-8713-0c2c6f700a9c",
   "metadata": {},
   "outputs": [
    {
     "data": {
      "text/plain": [
       "(1, 40, 168)"
      ]
     },
     "execution_count": 4,
     "metadata": {},
     "output_type": "execute_result"
    }
   ],
   "source": [
    "np.shape(images[0])"
   ]
  },
  {
   "cell_type": "code",
   "execution_count": 5,
   "id": "58fbf76e-18c6-4da9-beaf-e5ede594edbc",
   "metadata": {},
   "outputs": [],
   "source": [
    "# Splitting the dataset into train, validate and test sets\n",
    "\n",
    "train_images, temp_images, train_labels, temp_labels = train_test_split(\n",
    "    images, labels, test_size=0.2, random_state=100\n",
    ")\n",
    "val_images, test_images, val_labels, test_labels = train_test_split(\n",
    "    temp_images, temp_labels, test_size=0.5, random_state=100\n",
    ")"
   ]
  },
  {
   "cell_type": "code",
   "execution_count": 6,
   "id": "9ad432c8-295f-489c-b7b0-8b46af7e1a2b",
   "metadata": {},
   "outputs": [],
   "source": [
    "# Converting the sets to pytorch compatible tensors\n",
    "\n",
    "train_images = torch.tensor(train_images, dtype=torch.float32)\n",
    "train_labels = torch.tensor(train_labels, dtype=torch.float32)\n",
    "val_images = torch.tensor(val_images, dtype=torch.float32)\n",
    "val_labels = torch.tensor(val_labels, dtype=torch.float32)\n",
    "test_images = torch.tensor(test_images, dtype=torch.float32)\n",
    "test_labels = torch.tensor(test_labels, dtype=torch.float32)"
   ]
  },
  {
   "cell_type": "code",
   "execution_count": 7,
   "id": "e91d07e1-1f9f-4970-a969-aab8bf2ea179",
   "metadata": {},
   "outputs": [],
   "source": [
    "# Creating the Datasets from the tensors\n",
    "\n",
    "class ImageDataset(Dataset):\n",
    "    def __init__(self, images, labels):\n",
    "        self.images = images\n",
    "        self.labels = labels\n",
    "\n",
    "    def __len__(self):\n",
    "        return len(self.images)\n",
    "\n",
    "    def __getitem__(self, idx):\n",
    "        return self.images[idx], self.labels[idx]\n",
    "\n",
    "train_dataset = ImageDataset(train_images, train_labels)\n",
    "val_dataset = ImageDataset(val_images, val_labels)\n",
    "test_dataset = ImageDataset(test_images, test_labels)\n",
    "\n",
    "# Creating DataLoaders\n",
    "train_loader = DataLoader(train_dataset, batch_size=32, shuffle=True)\n",
    "val_loader = DataLoader(val_dataset, batch_size=32, shuffle=False)\n",
    "test_loader = DataLoader(test_dataset, batch_size=32, shuffle=False)"
   ]
  },
  {
   "cell_type": "code",
   "execution_count": 9,
   "id": "571b63e3-b9d5-42e5-a9c1-1e5d3c31fc7e",
   "metadata": {},
   "outputs": [
    {
     "name": "stdout",
     "output_type": "stream",
     "text": [
      "Using device: cuda\n"
     ]
    }
   ],
   "source": [
    "# Choosing GPU for training\n",
    "\n",
    "device = torch.device(\"cuda\" if torch.cuda.is_available() else \"cpu\")\n",
    "print(f\"Using device: {device}\")"
   ]
  },
  {
   "cell_type": "code",
   "execution_count": 10,
   "id": "76ea5825-c6b7-4b47-895d-bdb9b79db442",
   "metadata": {},
   "outputs": [
    {
     "name": "stdout",
     "output_type": "stream",
     "text": [
      "torch.Size([1, 40, 168])\n",
      "torch.Size([1, 40, 168])\n",
      "torch.Size([1, 40, 168])\n",
      "torch.Size([1, 40, 168])\n",
      "torch.Size([1, 40, 168])\n",
      "torch.Size([1, 40, 168])\n",
      "torch.Size([1, 40, 168])\n",
      "torch.Size([1, 40, 168])\n",
      "torch.Size([1, 40, 168])\n",
      "torch.Size([1, 40, 168])\n",
      "torch.Size([1, 40, 168])\n",
      "torch.Size([1, 40, 168])\n",
      "torch.Size([1, 40, 168])\n",
      "torch.Size([1, 40, 168])\n",
      "torch.Size([1, 40, 168])\n",
      "torch.Size([1, 40, 168])\n",
      "torch.Size([1, 40, 168])\n",
      "torch.Size([1, 40, 168])\n",
      "torch.Size([1, 40, 168])\n",
      "torch.Size([1, 40, 168])\n",
      "torch.Size([1, 40, 168])\n",
      "torch.Size([1, 40, 168])\n",
      "torch.Size([1, 40, 168])\n",
      "torch.Size([1, 40, 168])\n",
      "torch.Size([1, 40, 168])\n",
      "torch.Size([1, 40, 168])\n",
      "torch.Size([1, 40, 168])\n",
      "torch.Size([1, 40, 168])\n",
      "torch.Size([1, 40, 168])\n",
      "torch.Size([1, 40, 168])\n",
      "torch.Size([1, 40, 168])\n",
      "torch.Size([1, 40, 168])\n",
      "torch.Size([1, 40, 168])\n",
      "torch.Size([1, 40, 168])\n",
      "torch.Size([1, 40, 168])\n",
      "torch.Size([1, 40, 168])\n",
      "torch.Size([1, 40, 168])\n",
      "torch.Size([1, 40, 168])\n",
      "torch.Size([1, 40, 168])\n",
      "torch.Size([1, 40, 168])\n",
      "torch.Size([1, 40, 168])\n",
      "torch.Size([1, 40, 168])\n",
      "torch.Size([1, 40, 168])\n",
      "torch.Size([1, 40, 168])\n",
      "torch.Size([1, 40, 168])\n",
      "torch.Size([1, 40, 168])\n",
      "torch.Size([1, 40, 168])\n",
      "torch.Size([1, 40, 168])\n",
      "torch.Size([1, 40, 168])\n",
      "torch.Size([1, 40, 168])\n",
      "torch.Size([1, 40, 168])\n",
      "torch.Size([1, 40, 168])\n",
      "torch.Size([1, 40, 168])\n",
      "torch.Size([1, 40, 168])\n",
      "torch.Size([1, 40, 168])\n",
      "torch.Size([1, 40, 168])\n",
      "torch.Size([1, 40, 168])\n",
      "torch.Size([1, 40, 168])\n",
      "torch.Size([1, 40, 168])\n",
      "torch.Size([1, 40, 168])\n",
      "torch.Size([1, 40, 168])\n",
      "torch.Size([1, 40, 168])\n",
      "torch.Size([1, 40, 168])\n",
      "torch.Size([1, 40, 168])\n",
      "torch.Size([1, 40, 168])\n",
      "torch.Size([1, 40, 168])\n",
      "torch.Size([1, 40, 168])\n",
      "torch.Size([1, 40, 168])\n",
      "torch.Size([1, 40, 168])\n",
      "torch.Size([1, 40, 168])\n",
      "torch.Size([1, 40, 168])\n",
      "torch.Size([1, 40, 168])\n",
      "torch.Size([1, 40, 168])\n",
      "torch.Size([1, 40, 168])\n",
      "torch.Size([1, 40, 168])\n",
      "torch.Size([1, 40, 168])\n",
      "torch.Size([1, 40, 168])\n",
      "torch.Size([1, 40, 168])\n",
      "torch.Size([1, 40, 168])\n",
      "torch.Size([1, 40, 168])\n",
      "torch.Size([1, 40, 168])\n",
      "torch.Size([1, 40, 168])\n",
      "torch.Size([1, 40, 168])\n",
      "torch.Size([1, 40, 168])\n",
      "torch.Size([1, 40, 168])\n",
      "torch.Size([1, 40, 168])\n",
      "torch.Size([1, 40, 168])\n",
      "torch.Size([1, 40, 168])\n",
      "torch.Size([1, 40, 168])\n",
      "torch.Size([1, 40, 168])\n",
      "torch.Size([1, 40, 168])\n",
      "torch.Size([1, 40, 168])\n",
      "torch.Size([1, 40, 168])\n",
      "torch.Size([1, 40, 168])\n",
      "torch.Size([1, 40, 168])\n",
      "torch.Size([1, 40, 168])\n",
      "torch.Size([1, 40, 168])\n",
      "torch.Size([1, 40, 168])\n",
      "torch.Size([1, 40, 168])\n",
      "torch.Size([1, 40, 168])\n",
      "torch.Size([1, 40, 168])\n",
      "torch.Size([1, 40, 168])\n",
      "torch.Size([1, 40, 168])\n",
      "torch.Size([1, 40, 168])\n",
      "torch.Size([1, 40, 168])\n",
      "torch.Size([1, 40, 168])\n",
      "torch.Size([1, 40, 168])\n",
      "torch.Size([1, 40, 168])\n",
      "torch.Size([1, 40, 168])\n",
      "torch.Size([1, 40, 168])\n",
      "torch.Size([1, 40, 168])\n",
      "torch.Size([1, 40, 168])\n",
      "torch.Size([1, 40, 168])\n",
      "torch.Size([1, 40, 168])\n",
      "torch.Size([1, 40, 168])\n",
      "torch.Size([1, 40, 168])\n",
      "torch.Size([1, 40, 168])\n",
      "torch.Size([1, 40, 168])\n",
      "torch.Size([1, 40, 168])\n",
      "torch.Size([1, 40, 168])\n",
      "torch.Size([1, 40, 168])\n",
      "torch.Size([1, 40, 168])\n",
      "torch.Size([1, 40, 168])\n",
      "torch.Size([1, 40, 168])\n",
      "torch.Size([1, 40, 168])\n",
      "torch.Size([1, 40, 168])\n",
      "torch.Size([1, 40, 168])\n",
      "torch.Size([1, 40, 168])\n",
      "torch.Size([1, 40, 168])\n",
      "torch.Size([1, 40, 168])\n",
      "torch.Size([1, 40, 168])\n",
      "torch.Size([1, 40, 168])\n",
      "torch.Size([1, 40, 168])\n",
      "torch.Size([1, 40, 168])\n",
      "torch.Size([1, 40, 168])\n",
      "torch.Size([1, 40, 168])\n",
      "torch.Size([1, 40, 168])\n",
      "torch.Size([1, 40, 168])\n",
      "torch.Size([1, 40, 168])\n",
      "torch.Size([1, 40, 168])\n",
      "torch.Size([1, 40, 168])\n",
      "torch.Size([1, 40, 168])\n",
      "torch.Size([1, 40, 168])\n",
      "torch.Size([1, 40, 168])\n",
      "torch.Size([1, 40, 168])\n",
      "torch.Size([1, 40, 168])\n",
      "torch.Size([1, 40, 168])\n",
      "torch.Size([1, 40, 168])\n",
      "torch.Size([1, 40, 168])\n",
      "torch.Size([1, 40, 168])\n",
      "torch.Size([1, 40, 168])\n",
      "torch.Size([1, 40, 168])\n",
      "torch.Size([1, 40, 168])\n",
      "torch.Size([1, 40, 168])\n",
      "torch.Size([1, 40, 168])\n",
      "torch.Size([1, 40, 168])\n",
      "torch.Size([1, 40, 168])\n",
      "torch.Size([1, 40, 168])\n",
      "torch.Size([1, 40, 168])\n",
      "torch.Size([1, 40, 168])\n",
      "torch.Size([1, 40, 168])\n",
      "torch.Size([1, 40, 168])\n",
      "torch.Size([1, 40, 168])\n",
      "torch.Size([1, 40, 168])\n",
      "torch.Size([1, 40, 168])\n",
      "torch.Size([1, 40, 168])\n",
      "torch.Size([1, 40, 168])\n",
      "torch.Size([1, 40, 168])\n",
      "torch.Size([1, 40, 168])\n",
      "torch.Size([1, 40, 168])\n",
      "torch.Size([1, 40, 168])\n",
      "torch.Size([1, 40, 168])\n",
      "torch.Size([1, 40, 168])\n",
      "torch.Size([1, 40, 168])\n",
      "torch.Size([1, 40, 168])\n",
      "torch.Size([1, 40, 168])\n",
      "torch.Size([1, 40, 168])\n",
      "torch.Size([1, 40, 168])\n",
      "torch.Size([1, 40, 168])\n",
      "torch.Size([1, 40, 168])\n",
      "torch.Size([1, 40, 168])\n",
      "torch.Size([1, 40, 168])\n",
      "torch.Size([1, 40, 168])\n",
      "torch.Size([1, 40, 168])\n",
      "torch.Size([1, 40, 168])\n",
      "torch.Size([1, 40, 168])\n",
      "torch.Size([1, 40, 168])\n",
      "torch.Size([1, 40, 168])\n",
      "torch.Size([1, 40, 168])\n",
      "torch.Size([1, 40, 168])\n",
      "torch.Size([1, 40, 168])\n",
      "torch.Size([1, 40, 168])\n",
      "torch.Size([1, 40, 168])\n",
      "torch.Size([1, 40, 168])\n",
      "torch.Size([1, 40, 168])\n",
      "torch.Size([1, 40, 168])\n",
      "torch.Size([1, 40, 168])\n",
      "torch.Size([1, 40, 168])\n",
      "torch.Size([1, 40, 168])\n",
      "torch.Size([1, 40, 168])\n",
      "torch.Size([1, 40, 168])\n",
      "torch.Size([1, 40, 168])\n",
      "torch.Size([1, 40, 168])\n",
      "torch.Size([1, 40, 168])\n",
      "torch.Size([1, 40, 168])\n",
      "torch.Size([1, 40, 168])\n",
      "torch.Size([1, 40, 168])\n",
      "torch.Size([1, 40, 168])\n",
      "torch.Size([1, 40, 168])\n",
      "torch.Size([1, 40, 168])\n",
      "torch.Size([1, 40, 168])\n",
      "torch.Size([1, 40, 168])\n",
      "torch.Size([1, 40, 168])\n",
      "torch.Size([1, 40, 168])\n",
      "torch.Size([1, 40, 168])\n",
      "torch.Size([1, 40, 168])\n",
      "torch.Size([1, 40, 168])\n",
      "torch.Size([1, 40, 168])\n",
      "torch.Size([1, 40, 168])\n",
      "torch.Size([1, 40, 168])\n",
      "torch.Size([1, 40, 168])\n",
      "torch.Size([1, 40, 168])\n",
      "torch.Size([1, 40, 168])\n",
      "torch.Size([1, 40, 168])\n",
      "torch.Size([1, 40, 168])\n",
      "torch.Size([1, 40, 168])\n",
      "torch.Size([1, 40, 168])\n",
      "torch.Size([1, 40, 168])\n",
      "torch.Size([1, 40, 168])\n",
      "torch.Size([1, 40, 168])\n",
      "torch.Size([1, 40, 168])\n",
      "torch.Size([1, 40, 168])\n",
      "torch.Size([1, 40, 168])\n",
      "torch.Size([1, 40, 168])\n",
      "torch.Size([1, 40, 168])\n",
      "torch.Size([1, 40, 168])\n",
      "torch.Size([1, 40, 168])\n",
      "torch.Size([1, 40, 168])\n",
      "torch.Size([1, 40, 168])\n",
      "torch.Size([1, 40, 168])\n",
      "torch.Size([1, 40, 168])\n",
      "torch.Size([1, 40, 168])\n",
      "torch.Size([1, 40, 168])\n",
      "torch.Size([1, 40, 168])\n",
      "torch.Size([1, 40, 168])\n",
      "torch.Size([1, 40, 168])\n",
      "torch.Size([1, 40, 168])\n",
      "torch.Size([1, 40, 168])\n",
      "torch.Size([1, 40, 168])\n",
      "torch.Size([1, 40, 168])\n",
      "torch.Size([1, 40, 168])\n",
      "torch.Size([1, 40, 168])\n",
      "torch.Size([1, 40, 168])\n",
      "torch.Size([1, 40, 168])\n",
      "torch.Size([1, 40, 168])\n",
      "torch.Size([1, 40, 168])\n",
      "torch.Size([1, 40, 168])\n",
      "torch.Size([1, 40, 168])\n",
      "torch.Size([1, 40, 168])\n",
      "torch.Size([1, 40, 168])\n",
      "torch.Size([1, 40, 168])\n",
      "torch.Size([1, 40, 168])\n",
      "torch.Size([1, 40, 168])\n",
      "torch.Size([1, 40, 168])\n",
      "torch.Size([1, 40, 168])\n",
      "torch.Size([1, 40, 168])\n",
      "torch.Size([1, 40, 168])\n",
      "torch.Size([1, 40, 168])\n",
      "torch.Size([1, 40, 168])\n",
      "torch.Size([1, 40, 168])\n",
      "torch.Size([1, 40, 168])\n",
      "torch.Size([1, 40, 168])\n",
      "torch.Size([1, 40, 168])\n",
      "torch.Size([1, 40, 168])\n",
      "torch.Size([1, 40, 168])\n",
      "torch.Size([1, 40, 168])\n",
      "torch.Size([1, 40, 168])\n",
      "torch.Size([1, 40, 168])\n",
      "torch.Size([1, 40, 168])\n",
      "torch.Size([1, 40, 168])\n",
      "torch.Size([1, 40, 168])\n",
      "torch.Size([1, 40, 168])\n",
      "torch.Size([1, 40, 168])\n",
      "torch.Size([1, 40, 168])\n",
      "torch.Size([1, 40, 168])\n",
      "torch.Size([1, 40, 168])\n",
      "torch.Size([1, 40, 168])\n",
      "torch.Size([1, 40, 168])\n",
      "torch.Size([1, 40, 168])\n",
      "torch.Size([1, 40, 168])\n",
      "torch.Size([1, 40, 168])\n",
      "torch.Size([1, 40, 168])\n",
      "torch.Size([1, 40, 168])\n",
      "torch.Size([1, 40, 168])\n",
      "torch.Size([1, 40, 168])\n",
      "torch.Size([1, 40, 168])\n",
      "torch.Size([1, 40, 168])\n",
      "torch.Size([1, 40, 168])\n",
      "torch.Size([1, 40, 168])\n",
      "torch.Size([1, 40, 168])\n",
      "torch.Size([1, 40, 168])\n",
      "torch.Size([1, 40, 168])\n",
      "torch.Size([1, 40, 168])\n",
      "torch.Size([1, 40, 168])\n",
      "torch.Size([1, 40, 168])\n",
      "torch.Size([1, 40, 168])\n",
      "torch.Size([1, 40, 168])\n",
      "torch.Size([1, 40, 168])\n",
      "torch.Size([1, 40, 168])\n",
      "torch.Size([1, 40, 168])\n",
      "torch.Size([1, 40, 168])\n",
      "torch.Size([1, 40, 168])\n",
      "torch.Size([1, 40, 168])\n",
      "torch.Size([1, 40, 168])\n",
      "torch.Size([1, 40, 168])\n",
      "torch.Size([1, 40, 168])\n",
      "torch.Size([1, 40, 168])\n",
      "torch.Size([1, 40, 168])\n",
      "torch.Size([1, 40, 168])\n",
      "torch.Size([1, 40, 168])\n",
      "torch.Size([1, 40, 168])\n",
      "torch.Size([1, 40, 168])\n",
      "torch.Size([1, 40, 168])\n",
      "torch.Size([1, 40, 168])\n",
      "torch.Size([1, 40, 168])\n",
      "torch.Size([1, 40, 168])\n",
      "torch.Size([1, 40, 168])\n",
      "torch.Size([1, 40, 168])\n",
      "torch.Size([1, 40, 168])\n",
      "torch.Size([1, 40, 168])\n",
      "torch.Size([1, 40, 168])\n",
      "torch.Size([1, 40, 168])\n",
      "torch.Size([1, 40, 168])\n",
      "torch.Size([1, 40, 168])\n",
      "torch.Size([1, 40, 168])\n",
      "torch.Size([1, 40, 168])\n",
      "torch.Size([1, 40, 168])\n",
      "torch.Size([1, 40, 168])\n",
      "torch.Size([1, 40, 168])\n",
      "torch.Size([1, 40, 168])\n",
      "torch.Size([1, 40, 168])\n",
      "torch.Size([1, 40, 168])\n",
      "torch.Size([1, 40, 168])\n",
      "torch.Size([1, 40, 168])\n",
      "torch.Size([1, 40, 168])\n",
      "torch.Size([1, 40, 168])\n",
      "torch.Size([1, 40, 168])\n",
      "torch.Size([1, 40, 168])\n",
      "torch.Size([1, 40, 168])\n",
      "torch.Size([1, 40, 168])\n",
      "torch.Size([1, 40, 168])\n",
      "torch.Size([1, 40, 168])\n",
      "torch.Size([1, 40, 168])\n",
      "torch.Size([1, 40, 168])\n",
      "torch.Size([1, 40, 168])\n",
      "torch.Size([1, 40, 168])\n",
      "torch.Size([1, 40, 168])\n",
      "torch.Size([1, 40, 168])\n",
      "torch.Size([1, 40, 168])\n",
      "torch.Size([1, 40, 168])\n",
      "torch.Size([1, 40, 168])\n",
      "torch.Size([1, 40, 168])\n",
      "torch.Size([1, 40, 168])\n",
      "torch.Size([1, 40, 168])\n",
      "torch.Size([1, 40, 168])\n",
      "torch.Size([1, 40, 168])\n",
      "torch.Size([1, 40, 168])\n",
      "torch.Size([1, 40, 168])\n",
      "torch.Size([1, 40, 168])\n",
      "torch.Size([1, 40, 168])\n",
      "torch.Size([1, 40, 168])\n",
      "torch.Size([1, 40, 168])\n",
      "torch.Size([1, 40, 168])\n",
      "torch.Size([1, 40, 168])\n",
      "torch.Size([1, 40, 168])\n",
      "torch.Size([1, 40, 168])\n",
      "torch.Size([1, 40, 168])\n",
      "torch.Size([1, 40, 168])\n",
      "torch.Size([1, 40, 168])\n",
      "torch.Size([1, 40, 168])\n",
      "torch.Size([1, 40, 168])\n",
      "torch.Size([1, 40, 168])\n",
      "torch.Size([1, 40, 168])\n",
      "torch.Size([1, 40, 168])\n",
      "torch.Size([1, 40, 168])\n",
      "torch.Size([1, 40, 168])\n",
      "torch.Size([1, 40, 168])\n",
      "torch.Size([1, 40, 168])\n",
      "torch.Size([1, 40, 168])\n",
      "torch.Size([1, 40, 168])\n",
      "torch.Size([1, 40, 168])\n",
      "torch.Size([1, 40, 168])\n",
      "torch.Size([1, 40, 168])\n",
      "torch.Size([1, 40, 168])\n",
      "torch.Size([1, 40, 168])\n",
      "torch.Size([1, 40, 168])\n",
      "torch.Size([1, 40, 168])\n",
      "torch.Size([1, 40, 168])\n",
      "torch.Size([1, 40, 168])\n",
      "torch.Size([1, 40, 168])\n",
      "torch.Size([1, 40, 168])\n",
      "torch.Size([1, 40, 168])\n",
      "torch.Size([1, 40, 168])\n",
      "torch.Size([1, 40, 168])\n",
      "torch.Size([1, 40, 168])\n",
      "torch.Size([1, 40, 168])\n",
      "torch.Size([1, 40, 168])\n",
      "torch.Size([1, 40, 168])\n",
      "torch.Size([1, 40, 168])\n",
      "torch.Size([1, 40, 168])\n",
      "torch.Size([1, 40, 168])\n",
      "torch.Size([1, 40, 168])\n",
      "torch.Size([1, 40, 168])\n",
      "torch.Size([1, 40, 168])\n",
      "torch.Size([1, 40, 168])\n",
      "torch.Size([1, 40, 168])\n",
      "torch.Size([1, 40, 168])\n",
      "torch.Size([1, 40, 168])\n",
      "torch.Size([1, 40, 168])\n",
      "torch.Size([1, 40, 168])\n",
      "torch.Size([1, 40, 168])\n",
      "torch.Size([1, 40, 168])\n",
      "torch.Size([1, 40, 168])\n",
      "torch.Size([1, 40, 168])\n",
      "torch.Size([1, 40, 168])\n",
      "torch.Size([1, 40, 168])\n",
      "torch.Size([1, 40, 168])\n",
      "torch.Size([1, 40, 168])\n",
      "torch.Size([1, 40, 168])\n",
      "torch.Size([1, 40, 168])\n",
      "torch.Size([1, 40, 168])\n",
      "torch.Size([1, 40, 168])\n",
      "torch.Size([1, 40, 168])\n",
      "torch.Size([1, 40, 168])\n",
      "torch.Size([1, 40, 168])\n",
      "torch.Size([1, 40, 168])\n",
      "torch.Size([1, 40, 168])\n",
      "torch.Size([1, 40, 168])\n",
      "torch.Size([1, 40, 168])\n",
      "torch.Size([1, 40, 168])\n",
      "torch.Size([1, 40, 168])\n",
      "torch.Size([1, 40, 168])\n",
      "torch.Size([1, 40, 168])\n",
      "torch.Size([1, 40, 168])\n",
      "torch.Size([1, 40, 168])\n",
      "torch.Size([1, 40, 168])\n",
      "torch.Size([1, 40, 168])\n",
      "torch.Size([1, 40, 168])\n",
      "torch.Size([1, 40, 168])\n",
      "torch.Size([1, 40, 168])\n",
      "torch.Size([1, 40, 168])\n",
      "torch.Size([1, 40, 168])\n",
      "torch.Size([1, 40, 168])\n",
      "torch.Size([1, 40, 168])\n",
      "torch.Size([1, 40, 168])\n",
      "torch.Size([1, 40, 168])\n",
      "torch.Size([1, 40, 168])\n",
      "torch.Size([1, 40, 168])\n",
      "torch.Size([1, 40, 168])\n",
      "torch.Size([1, 40, 168])\n",
      "torch.Size([1, 40, 168])\n",
      "torch.Size([1, 40, 168])\n",
      "torch.Size([1, 40, 168])\n",
      "torch.Size([1, 40, 168])\n",
      "torch.Size([1, 40, 168])\n",
      "torch.Size([1, 40, 168])\n",
      "torch.Size([1, 40, 168])\n",
      "torch.Size([1, 40, 168])\n",
      "torch.Size([1, 40, 168])\n",
      "torch.Size([1, 40, 168])\n",
      "torch.Size([1, 40, 168])\n",
      "torch.Size([1, 40, 168])\n",
      "torch.Size([1, 40, 168])\n",
      "torch.Size([1, 40, 168])\n",
      "torch.Size([1, 40, 168])\n",
      "torch.Size([1, 40, 168])\n",
      "torch.Size([1, 40, 168])\n",
      "torch.Size([1, 40, 168])\n",
      "torch.Size([1, 40, 168])\n",
      "torch.Size([1, 40, 168])\n",
      "torch.Size([1, 40, 168])\n",
      "torch.Size([1, 40, 168])\n",
      "torch.Size([1, 40, 168])\n",
      "torch.Size([1, 40, 168])\n",
      "torch.Size([1, 40, 168])\n",
      "torch.Size([1, 40, 168])\n",
      "torch.Size([1, 40, 168])\n",
      "torch.Size([1, 40, 168])\n",
      "torch.Size([1, 40, 168])\n",
      "torch.Size([1, 40, 168])\n",
      "torch.Size([1, 40, 168])\n",
      "torch.Size([1, 40, 168])\n",
      "torch.Size([1, 40, 168])\n",
      "torch.Size([1, 40, 168])\n",
      "torch.Size([1, 40, 168])\n",
      "torch.Size([1, 40, 168])\n",
      "torch.Size([1, 40, 168])\n",
      "torch.Size([1, 40, 168])\n",
      "torch.Size([1, 40, 168])\n",
      "torch.Size([1, 40, 168])\n",
      "torch.Size([1, 40, 168])\n",
      "torch.Size([1, 40, 168])\n",
      "torch.Size([1, 40, 168])\n",
      "torch.Size([1, 40, 168])\n",
      "torch.Size([1, 40, 168])\n",
      "torch.Size([1, 40, 168])\n",
      "torch.Size([1, 40, 168])\n",
      "torch.Size([1, 40, 168])\n",
      "torch.Size([1, 40, 168])\n",
      "torch.Size([1, 40, 168])\n",
      "torch.Size([1, 40, 168])\n",
      "torch.Size([1, 40, 168])\n",
      "torch.Size([1, 40, 168])\n",
      "torch.Size([1, 40, 168])\n",
      "torch.Size([1, 40, 168])\n",
      "torch.Size([1, 40, 168])\n",
      "torch.Size([1, 40, 168])\n",
      "torch.Size([1, 40, 168])\n",
      "torch.Size([1, 40, 168])\n",
      "torch.Size([1, 40, 168])\n",
      "torch.Size([1, 40, 168])\n",
      "torch.Size([1, 40, 168])\n",
      "torch.Size([1, 40, 168])\n",
      "torch.Size([1, 40, 168])\n",
      "torch.Size([1, 40, 168])\n",
      "torch.Size([1, 40, 168])\n",
      "torch.Size([1, 40, 168])\n",
      "torch.Size([1, 40, 168])\n",
      "torch.Size([1, 40, 168])\n",
      "torch.Size([1, 40, 168])\n",
      "torch.Size([1, 40, 168])\n",
      "torch.Size([1, 40, 168])\n",
      "torch.Size([1, 40, 168])\n",
      "torch.Size([1, 40, 168])\n",
      "torch.Size([1, 40, 168])\n",
      "torch.Size([1, 40, 168])\n",
      "torch.Size([1, 40, 168])\n",
      "torch.Size([1, 40, 168])\n",
      "torch.Size([1, 40, 168])\n",
      "torch.Size([1, 40, 168])\n",
      "torch.Size([1, 40, 168])\n",
      "torch.Size([1, 40, 168])\n",
      "torch.Size([1, 40, 168])\n",
      "torch.Size([1, 40, 168])\n",
      "torch.Size([1, 40, 168])\n",
      "torch.Size([1, 40, 168])\n",
      "torch.Size([1, 40, 168])\n",
      "torch.Size([1, 40, 168])\n",
      "torch.Size([1, 40, 168])\n",
      "torch.Size([1, 40, 168])\n",
      "torch.Size([1, 40, 168])\n",
      "torch.Size([1, 40, 168])\n",
      "torch.Size([1, 40, 168])\n",
      "torch.Size([1, 40, 168])\n",
      "torch.Size([1, 40, 168])\n",
      "torch.Size([1, 40, 168])\n",
      "torch.Size([1, 40, 168])\n",
      "torch.Size([1, 40, 168])\n",
      "torch.Size([1, 40, 168])\n",
      "torch.Size([1, 40, 168])\n",
      "torch.Size([1, 40, 168])\n",
      "torch.Size([1, 40, 168])\n",
      "torch.Size([1, 40, 168])\n",
      "torch.Size([1, 40, 168])\n",
      "torch.Size([1, 40, 168])\n",
      "torch.Size([1, 40, 168])\n",
      "torch.Size([1, 40, 168])\n",
      "torch.Size([1, 40, 168])\n",
      "torch.Size([1, 40, 168])\n",
      "torch.Size([1, 40, 168])\n",
      "torch.Size([1, 40, 168])\n",
      "torch.Size([1, 40, 168])\n",
      "torch.Size([1, 40, 168])\n",
      "torch.Size([1, 40, 168])\n",
      "torch.Size([1, 40, 168])\n",
      "torch.Size([1, 40, 168])\n",
      "torch.Size([1, 40, 168])\n",
      "torch.Size([1, 40, 168])\n",
      "torch.Size([1, 40, 168])\n",
      "torch.Size([1, 40, 168])\n",
      "torch.Size([1, 40, 168])\n",
      "torch.Size([1, 40, 168])\n",
      "torch.Size([1, 40, 168])\n",
      "torch.Size([1, 40, 168])\n",
      "torch.Size([1, 40, 168])\n",
      "torch.Size([1, 40, 168])\n",
      "torch.Size([1, 40, 168])\n",
      "torch.Size([1, 40, 168])\n",
      "torch.Size([1, 40, 168])\n",
      "torch.Size([1, 40, 168])\n",
      "torch.Size([1, 40, 168])\n",
      "torch.Size([1, 40, 168])\n",
      "torch.Size([1, 40, 168])\n",
      "torch.Size([1, 40, 168])\n",
      "torch.Size([1, 40, 168])\n",
      "torch.Size([1, 40, 168])\n",
      "torch.Size([1, 40, 168])\n",
      "torch.Size([1, 40, 168])\n",
      "torch.Size([1, 40, 168])\n",
      "torch.Size([1, 40, 168])\n",
      "torch.Size([1, 40, 168])\n",
      "torch.Size([1, 40, 168])\n",
      "torch.Size([1, 40, 168])\n",
      "torch.Size([1, 40, 168])\n",
      "torch.Size([1, 40, 168])\n",
      "torch.Size([1, 40, 168])\n",
      "torch.Size([1, 40, 168])\n",
      "torch.Size([1, 40, 168])\n",
      "torch.Size([1, 40, 168])\n",
      "torch.Size([1, 40, 168])\n",
      "torch.Size([1, 40, 168])\n",
      "torch.Size([1, 40, 168])\n",
      "torch.Size([1, 40, 168])\n",
      "torch.Size([1, 40, 168])\n",
      "torch.Size([1, 40, 168])\n",
      "torch.Size([1, 40, 168])\n",
      "torch.Size([1, 40, 168])\n",
      "torch.Size([1, 40, 168])\n",
      "torch.Size([1, 40, 168])\n",
      "torch.Size([1, 40, 168])\n",
      "torch.Size([1, 40, 168])\n",
      "torch.Size([1, 40, 168])\n",
      "torch.Size([1, 40, 168])\n",
      "torch.Size([1, 40, 168])\n",
      "torch.Size([1, 40, 168])\n",
      "torch.Size([1, 40, 168])\n",
      "torch.Size([1, 40, 168])\n",
      "torch.Size([1, 40, 168])\n",
      "torch.Size([1, 40, 168])\n",
      "torch.Size([1, 40, 168])\n",
      "torch.Size([1, 40, 168])\n",
      "torch.Size([1, 40, 168])\n",
      "torch.Size([1, 40, 168])\n",
      "torch.Size([1, 40, 168])\n",
      "torch.Size([1, 40, 168])\n",
      "torch.Size([1, 40, 168])\n",
      "torch.Size([1, 40, 168])\n",
      "torch.Size([1, 40, 168])\n",
      "torch.Size([1, 40, 168])\n",
      "torch.Size([1, 40, 168])\n",
      "torch.Size([1, 40, 168])\n",
      "torch.Size([1, 40, 168])\n",
      "torch.Size([1, 40, 168])\n",
      "torch.Size([1, 40, 168])\n",
      "torch.Size([1, 40, 168])\n",
      "torch.Size([1, 40, 168])\n",
      "torch.Size([1, 40, 168])\n",
      "torch.Size([1, 40, 168])\n",
      "torch.Size([1, 40, 168])\n",
      "torch.Size([1, 40, 168])\n",
      "torch.Size([1, 40, 168])\n",
      "torch.Size([1, 40, 168])\n",
      "torch.Size([1, 40, 168])\n",
      "torch.Size([1, 40, 168])\n",
      "torch.Size([1, 40, 168])\n",
      "torch.Size([1, 40, 168])\n",
      "torch.Size([1, 40, 168])\n",
      "torch.Size([1, 40, 168])\n",
      "torch.Size([1, 40, 168])\n",
      "torch.Size([1, 40, 168])\n",
      "torch.Size([1, 40, 168])\n",
      "torch.Size([1, 40, 168])\n",
      "torch.Size([1, 40, 168])\n",
      "torch.Size([1, 40, 168])\n",
      "torch.Size([1, 40, 168])\n",
      "torch.Size([1, 40, 168])\n",
      "torch.Size([1, 40, 168])\n",
      "torch.Size([1, 40, 168])\n",
      "torch.Size([1, 40, 168])\n",
      "torch.Size([1, 40, 168])\n",
      "torch.Size([1, 40, 168])\n",
      "torch.Size([1, 40, 168])\n",
      "torch.Size([1, 40, 168])\n",
      "torch.Size([1, 40, 168])\n",
      "torch.Size([1, 40, 168])\n",
      "torch.Size([1, 40, 168])\n",
      "torch.Size([1, 40, 168])\n",
      "torch.Size([1, 40, 168])\n",
      "torch.Size([1, 40, 168])\n",
      "torch.Size([1, 40, 168])\n",
      "torch.Size([1, 40, 168])\n",
      "torch.Size([1, 40, 168])\n",
      "torch.Size([1, 40, 168])\n",
      "torch.Size([1, 40, 168])\n",
      "torch.Size([1, 40, 168])\n",
      "torch.Size([1, 40, 168])\n",
      "torch.Size([1, 40, 168])\n",
      "torch.Size([1, 40, 168])\n",
      "torch.Size([1, 40, 168])\n",
      "torch.Size([1, 40, 168])\n",
      "torch.Size([1, 40, 168])\n",
      "torch.Size([1, 40, 168])\n",
      "torch.Size([1, 40, 168])\n",
      "torch.Size([1, 40, 168])\n",
      "torch.Size([1, 40, 168])\n",
      "torch.Size([1, 40, 168])\n",
      "torch.Size([1, 40, 168])\n",
      "torch.Size([1, 40, 168])\n",
      "torch.Size([1, 40, 168])\n",
      "torch.Size([1, 40, 168])\n",
      "torch.Size([1, 40, 168])\n",
      "torch.Size([1, 40, 168])\n",
      "torch.Size([1, 40, 168])\n",
      "torch.Size([1, 40, 168])\n",
      "torch.Size([1, 40, 168])\n",
      "torch.Size([1, 40, 168])\n",
      "torch.Size([1, 40, 168])\n",
      "torch.Size([1, 40, 168])\n",
      "torch.Size([1, 40, 168])\n",
      "torch.Size([1, 40, 168])\n",
      "torch.Size([1, 40, 168])\n",
      "torch.Size([1, 40, 168])\n",
      "torch.Size([1, 40, 168])\n",
      "torch.Size([1, 40, 168])\n",
      "torch.Size([1, 40, 168])\n",
      "torch.Size([1, 40, 168])\n",
      "torch.Size([1, 40, 168])\n",
      "torch.Size([1, 40, 168])\n",
      "torch.Size([1, 40, 168])\n",
      "torch.Size([1, 40, 168])\n",
      "torch.Size([1, 40, 168])\n",
      "torch.Size([1, 40, 168])\n",
      "torch.Size([1, 40, 168])\n",
      "torch.Size([1, 40, 168])\n",
      "torch.Size([1, 40, 168])\n",
      "torch.Size([1, 40, 168])\n",
      "torch.Size([1, 40, 168])\n",
      "torch.Size([1, 40, 168])\n",
      "torch.Size([1, 40, 168])\n",
      "torch.Size([1, 40, 168])\n",
      "torch.Size([1, 40, 168])\n",
      "torch.Size([1, 40, 168])\n",
      "torch.Size([1, 40, 168])\n",
      "torch.Size([1, 40, 168])\n",
      "torch.Size([1, 40, 168])\n",
      "torch.Size([1, 40, 168])\n",
      "torch.Size([1, 40, 168])\n",
      "torch.Size([1, 40, 168])\n",
      "torch.Size([1, 40, 168])\n",
      "torch.Size([1, 40, 168])\n",
      "torch.Size([1, 40, 168])\n",
      "torch.Size([1, 40, 168])\n",
      "torch.Size([1, 40, 168])\n",
      "torch.Size([1, 40, 168])\n",
      "torch.Size([1, 40, 168])\n",
      "torch.Size([1, 40, 168])\n",
      "torch.Size([1, 40, 168])\n",
      "torch.Size([1, 40, 168])\n",
      "torch.Size([1, 40, 168])\n",
      "torch.Size([1, 40, 168])\n"
     ]
    }
   ],
   "source": [
    "for images, labels in train_loader:\n",
    "    images, labels = images.to(device), labels.to(device)\n",
    "    labels = labels.unsqueeze(1)  # Match output shape\n",
    "    print(np.shape(images[0]))\n",
    "    # optimizer.zero_grad()\n",
    "    # outputs = model(images)\n",
    "    # loss = criterion(outputs, labels)\n",
    "    # loss.backward()\n",
    "    # optimizer.step()\n",
    "    # train_loss += loss.item()"
   ]
  },
  {
   "cell_type": "code",
   "execution_count": 9,
   "id": "c432b411-c9bc-4a61-b0ed-d778620407e1",
   "metadata": {},
   "outputs": [],
   "source": [
    "# Defining the model and moving it to the gpu\n",
    "\n",
    "class CNNRegressor(nn.Module):\n",
    "    def __init__(self):\n",
    "        super(CNNRegressor, self).__init__()\n",
    "        self.conv_layers = nn.Sequential(\n",
    "            # Convolution layer 1\n",
    "            nn.Conv2d(1, 10, kernel_size=28, stride=1, padding=14),  # (N, 10, 40, 168)\n",
    "            nn.ReLU(),\n",
    "            nn.MaxPool2d(kernel_size=2, stride=2),  # (N, 10, 20, 84)\n",
    "            # Convolution layer 2\n",
    "            nn.Conv2d(10, 16, kernel_size=3, stride=1, padding=1),  # (N, 16, 20, 84)\n",
    "            nn.ReLU(),\n",
    "            nn.MaxPool2d(kernel_size=2, stride=2),  # (N, 16, 10, 42)\n",
    "            # Convolution layer 3\n",
    "            nn.Conv2d(16, 32, kernel_size=3, stride=1, padding=1),  # (N, 32, 10, 42)\n",
    "            nn.ReLU(),\n",
    "            nn.MaxPool2d(kernel_size=2, stride=2),  # (N, 32, 5, 21)\n",
    "        )\n",
    "        self.fc_layers = nn.Sequential(\n",
    "            nn.Flatten(),\n",
    "            # Fully connected layer 1\n",
    "            nn.Linear(32 * 5 * 21, 256),\n",
    "            nn.ReLU(),\n",
    "            # Fully connected layer 1\n",
    "            nn.Linear(256, 32),\n",
    "            nn.ReLU(),\n",
    "            # Fully connected layer 1\n",
    "            nn.Linear(32, 4),\n",
    "            nn.ReLU(),\n",
    "            # Final layer for output\n",
    "            nn.Linear(4, 1)  # Regression output\n",
    "        )\n",
    "\n",
    "    def forward(self, x):\n",
    "        # Running the convolution layers\n",
    "        x = self.conv_layers(x)\n",
    "        # Running the fully connected layers\n",
    "        x = self.fc_layers(x)\n",
    "        return x\n",
    "\n",
    "model = CNNRegressor().to(device)"
   ]
  },
  {
   "cell_type": "code",
   "execution_count": 10,
   "id": "59cf73a6-4f13-4eea-a6dc-e0e039f8fe19",
   "metadata": {},
   "outputs": [],
   "source": [
    "# Defining Loss and Optimizer\n",
    "criterion = nn.L1Loss() # L1 loss is the mean absolute error\n",
    "optimizer = optim.Adam(model.parameters(), lr=0.001)\n"
   ]
  },
  {
   "cell_type": "code",
   "execution_count": 11,
   "id": "40a101ce-0a68-42bb-9e00-6c2689b41505",
   "metadata": {},
   "outputs": [],
   "source": [
    "# TQDM to keep track of the training\n",
    "from tqdm import tqdm"
   ]
  },
  {
   "cell_type": "code",
   "execution_count": 12,
   "id": "3e0fc76f-3cce-47a4-a2a3-a210510eb38f",
   "metadata": {},
   "outputs": [],
   "source": [
    "# Defining the training Loop\n",
    "\n",
    "def train_model(model, train_loader, val_loader, criterion, optimizer, epochs=10):\n",
    "    train_losses = []\n",
    "    validation_losses = []\n",
    "    \n",
    "    for epoch in tqdm(range(epochs)):\n",
    "        \n",
    "        model.train()\n",
    "        train_loss = 0\n",
    "        for images, labels in train_loader:\n",
    "            images, labels = images.to(device), labels.to(device)\n",
    "            labels = labels.unsqueeze(1)  # Match output shape\n",
    "            optimizer.zero_grad()\n",
    "            outputs = model(images)\n",
    "            loss = criterion(outputs, labels)\n",
    "            loss.backward()\n",
    "            optimizer.step()\n",
    "            train_loss += loss.item()\n",
    "\n",
    "        val_loss = 0\n",
    "        model.eval()\n",
    "        with torch.no_grad():\n",
    "            for images, labels in val_loader:\n",
    "                images, labels = images.to(device), labels.to(device)\n",
    "                labels = labels.unsqueeze(1)\n",
    "                outputs = model(images)\n",
    "                loss = criterion(outputs, labels)\n",
    "                val_loss += loss.item()\n",
    "\n",
    "        train_losses.append(train_loss/len(train_loader))\n",
    "        validation_losses.append(val_loss/len(val_loader))\n",
    "        \n",
    "        print(f\"Epoch {epoch+1}/{epochs}, Train Loss: {train_losses[-1]:.4f}, Val Loss: {validation_losses[-1]:.4f}\")\n",
    "\n",
    "    return (train_losses, validation_losses)\n"
   ]
  },
  {
   "cell_type": "code",
   "execution_count": 13,
   "id": "5ba97b2d-076b-4f6c-9d30-d65d5e2b8a17",
   "metadata": {},
   "outputs": [
    {
     "name": "stderr",
     "output_type": "stream",
     "text": [
      "  2%|█▍                                                         | 1/40 [01:23<54:29, 83.83s/it]"
     ]
    },
    {
     "name": "stdout",
     "output_type": "stream",
     "text": [
      "Epoch 1/40, Train Loss: 4.8815, Val Loss: 3.6848\n"
     ]
    },
    {
     "name": "stderr",
     "output_type": "stream",
     "text": [
      "  5%|██▉                                                        | 2/40 [02:48<53:15, 84.10s/it]"
     ]
    },
    {
     "name": "stdout",
     "output_type": "stream",
     "text": [
      "Epoch 2/40, Train Loss: 3.0809, Val Loss: 3.0221\n"
     ]
    },
    {
     "name": "stderr",
     "output_type": "stream",
     "text": [
      "  8%|████▍                                                      | 3/40 [04:12<51:55, 84.20s/it]"
     ]
    },
    {
     "name": "stdout",
     "output_type": "stream",
     "text": [
      "Epoch 3/40, Train Loss: 2.5153, Val Loss: 2.2906\n"
     ]
    },
    {
     "name": "stderr",
     "output_type": "stream",
     "text": [
      " 10%|█████▉                                                     | 4/40 [05:37<50:40, 84.45s/it]"
     ]
    },
    {
     "name": "stdout",
     "output_type": "stream",
     "text": [
      "Epoch 4/40, Train Loss: 2.2945, Val Loss: 2.4999\n"
     ]
    },
    {
     "name": "stderr",
     "output_type": "stream",
     "text": [
      " 12%|███████▍                                                   | 5/40 [07:02<49:22, 84.64s/it]"
     ]
    },
    {
     "name": "stdout",
     "output_type": "stream",
     "text": [
      "Epoch 5/40, Train Loss: 2.1853, Val Loss: 2.0352\n"
     ]
    },
    {
     "name": "stderr",
     "output_type": "stream",
     "text": [
      " 15%|████████▊                                                  | 6/40 [08:27<48:01, 84.75s/it]"
     ]
    },
    {
     "name": "stdout",
     "output_type": "stream",
     "text": [
      "Epoch 6/40, Train Loss: 2.0688, Val Loss: 2.0506\n"
     ]
    },
    {
     "name": "stderr",
     "output_type": "stream",
     "text": [
      " 18%|██████████▎                                                | 7/40 [09:52<46:39, 84.82s/it]"
     ]
    },
    {
     "name": "stdout",
     "output_type": "stream",
     "text": [
      "Epoch 7/40, Train Loss: 1.9967, Val Loss: 1.9341\n"
     ]
    },
    {
     "name": "stderr",
     "output_type": "stream",
     "text": [
      " 20%|███████████▊                                               | 8/40 [11:17<45:15, 84.87s/it]"
     ]
    },
    {
     "name": "stdout",
     "output_type": "stream",
     "text": [
      "Epoch 8/40, Train Loss: 1.9265, Val Loss: 1.9379\n"
     ]
    },
    {
     "name": "stderr",
     "output_type": "stream",
     "text": [
      " 22%|█████████████▎                                             | 9/40 [12:42<43:51, 84.89s/it]"
     ]
    },
    {
     "name": "stdout",
     "output_type": "stream",
     "text": [
      "Epoch 9/40, Train Loss: 1.8816, Val Loss: 2.2427\n"
     ]
    },
    {
     "name": "stderr",
     "output_type": "stream",
     "text": [
      " 25%|██████████████▌                                           | 10/40 [14:07<42:27, 84.91s/it]"
     ]
    },
    {
     "name": "stdout",
     "output_type": "stream",
     "text": [
      "Epoch 10/40, Train Loss: 1.8347, Val Loss: 1.8282\n"
     ]
    },
    {
     "name": "stderr",
     "output_type": "stream",
     "text": [
      " 28%|███████████████▉                                          | 11/40 [15:31<41:02, 84.91s/it]"
     ]
    },
    {
     "name": "stdout",
     "output_type": "stream",
     "text": [
      "Epoch 11/40, Train Loss: 1.7849, Val Loss: 2.2398\n"
     ]
    },
    {
     "name": "stderr",
     "output_type": "stream",
     "text": [
      " 30%|█████████████████▍                                        | 12/40 [16:56<39:37, 84.91s/it]"
     ]
    },
    {
     "name": "stdout",
     "output_type": "stream",
     "text": [
      "Epoch 12/40, Train Loss: 1.7779, Val Loss: 1.8750\n"
     ]
    },
    {
     "name": "stderr",
     "output_type": "stream",
     "text": [
      " 32%|██████████████████▊                                       | 13/40 [18:21<38:12, 84.90s/it]"
     ]
    },
    {
     "name": "stdout",
     "output_type": "stream",
     "text": [
      "Epoch 13/40, Train Loss: 1.7026, Val Loss: 2.3728\n"
     ]
    },
    {
     "name": "stderr",
     "output_type": "stream",
     "text": [
      " 35%|████████████████████▎                                     | 14/40 [19:46<36:47, 84.90s/it]"
     ]
    },
    {
     "name": "stdout",
     "output_type": "stream",
     "text": [
      "Epoch 14/40, Train Loss: 1.6998, Val Loss: 1.8550\n"
     ]
    },
    {
     "name": "stderr",
     "output_type": "stream",
     "text": [
      " 38%|█████████████████████▊                                    | 15/40 [21:11<35:22, 84.88s/it]"
     ]
    },
    {
     "name": "stdout",
     "output_type": "stream",
     "text": [
      "Epoch 15/40, Train Loss: 1.6687, Val Loss: 1.7916\n"
     ]
    },
    {
     "name": "stderr",
     "output_type": "stream",
     "text": [
      " 40%|███████████████████████▏                                  | 16/40 [22:36<33:56, 84.87s/it]"
     ]
    },
    {
     "name": "stdout",
     "output_type": "stream",
     "text": [
      "Epoch 16/40, Train Loss: 1.6245, Val Loss: 1.7898\n"
     ]
    },
    {
     "name": "stderr",
     "output_type": "stream",
     "text": [
      " 42%|████████████████████████▋                                 | 17/40 [24:01<32:31, 84.86s/it]"
     ]
    },
    {
     "name": "stdout",
     "output_type": "stream",
     "text": [
      "Epoch 17/40, Train Loss: 1.5986, Val Loss: 1.8041\n"
     ]
    },
    {
     "name": "stderr",
     "output_type": "stream",
     "text": [
      " 45%|██████████████████████████                                | 18/40 [25:26<31:06, 84.86s/it]"
     ]
    },
    {
     "name": "stdout",
     "output_type": "stream",
     "text": [
      "Epoch 18/40, Train Loss: 1.5871, Val Loss: 1.9644\n"
     ]
    },
    {
     "name": "stderr",
     "output_type": "stream",
     "text": [
      " 48%|███████████████████████████▌                              | 19/40 [26:50<29:41, 84.85s/it]"
     ]
    },
    {
     "name": "stdout",
     "output_type": "stream",
     "text": [
      "Epoch 19/40, Train Loss: 1.5295, Val Loss: 1.9555\n"
     ]
    },
    {
     "name": "stderr",
     "output_type": "stream",
     "text": [
      " 50%|█████████████████████████████                             | 20/40 [28:15<28:17, 84.86s/it]"
     ]
    },
    {
     "name": "stdout",
     "output_type": "stream",
     "text": [
      "Epoch 20/40, Train Loss: 1.5333, Val Loss: 1.7625\n"
     ]
    },
    {
     "name": "stderr",
     "output_type": "stream",
     "text": [
      " 52%|██████████████████████████████▍                           | 21/40 [29:40<26:52, 84.86s/it]"
     ]
    },
    {
     "name": "stdout",
     "output_type": "stream",
     "text": [
      "Epoch 21/40, Train Loss: 1.5160, Val Loss: 1.7547\n"
     ]
    },
    {
     "name": "stderr",
     "output_type": "stream",
     "text": [
      " 55%|███████████████████████████████▉                          | 22/40 [31:05<25:27, 84.86s/it]"
     ]
    },
    {
     "name": "stdout",
     "output_type": "stream",
     "text": [
      "Epoch 22/40, Train Loss: 1.4919, Val Loss: 1.7347\n"
     ]
    },
    {
     "name": "stderr",
     "output_type": "stream",
     "text": [
      " 57%|█████████████████████████████████▎                        | 23/40 [32:30<24:03, 84.89s/it]"
     ]
    },
    {
     "name": "stdout",
     "output_type": "stream",
     "text": [
      "Epoch 23/40, Train Loss: 1.4819, Val Loss: 1.8434\n"
     ]
    },
    {
     "name": "stderr",
     "output_type": "stream",
     "text": [
      " 60%|██████████████████████████████████▊                       | 24/40 [33:55<22:38, 84.93s/it]"
     ]
    },
    {
     "name": "stdout",
     "output_type": "stream",
     "text": [
      "Epoch 24/40, Train Loss: 1.4396, Val Loss: 1.8529\n"
     ]
    },
    {
     "name": "stderr",
     "output_type": "stream",
     "text": [
      " 62%|████████████████████████████████████▎                     | 25/40 [35:20<21:14, 84.95s/it]"
     ]
    },
    {
     "name": "stdout",
     "output_type": "stream",
     "text": [
      "Epoch 25/40, Train Loss: 1.4446, Val Loss: 1.7973\n"
     ]
    },
    {
     "name": "stderr",
     "output_type": "stream",
     "text": [
      " 65%|█████████████████████████████████████▋                    | 26/40 [36:45<19:49, 84.97s/it]"
     ]
    },
    {
     "name": "stdout",
     "output_type": "stream",
     "text": [
      "Epoch 26/40, Train Loss: 1.4081, Val Loss: 1.7345\n"
     ]
    },
    {
     "name": "stderr",
     "output_type": "stream",
     "text": [
      " 68%|███████████████████████████████████████▏                  | 27/40 [38:10<18:24, 84.98s/it]"
     ]
    },
    {
     "name": "stdout",
     "output_type": "stream",
     "text": [
      "Epoch 27/40, Train Loss: 1.3875, Val Loss: 1.7962\n"
     ]
    },
    {
     "name": "stderr",
     "output_type": "stream",
     "text": [
      " 70%|████████████████████████████████████████▌                 | 28/40 [39:35<16:59, 84.98s/it]"
     ]
    },
    {
     "name": "stdout",
     "output_type": "stream",
     "text": [
      "Epoch 28/40, Train Loss: 1.3946, Val Loss: 2.1076\n"
     ]
    },
    {
     "name": "stderr",
     "output_type": "stream",
     "text": [
      " 72%|██████████████████████████████████████████                | 29/40 [41:00<15:34, 84.99s/it]"
     ]
    },
    {
     "name": "stdout",
     "output_type": "stream",
     "text": [
      "Epoch 29/40, Train Loss: 1.3616, Val Loss: 1.7861\n"
     ]
    },
    {
     "name": "stderr",
     "output_type": "stream",
     "text": [
      " 75%|███████████████████████████████████████████▌              | 30/40 [42:25<14:09, 84.99s/it]"
     ]
    },
    {
     "name": "stdout",
     "output_type": "stream",
     "text": [
      "Epoch 30/40, Train Loss: 1.3352, Val Loss: 1.7444\n"
     ]
    },
    {
     "name": "stderr",
     "output_type": "stream",
     "text": [
      " 78%|████████████████████████████████████████████▉             | 31/40 [43:50<12:44, 84.99s/it]"
     ]
    },
    {
     "name": "stdout",
     "output_type": "stream",
     "text": [
      "Epoch 31/40, Train Loss: 1.3246, Val Loss: 1.8825\n"
     ]
    },
    {
     "name": "stderr",
     "output_type": "stream",
     "text": [
      " 80%|██████████████████████████████████████████████▍           | 32/40 [45:15<11:19, 84.99s/it]"
     ]
    },
    {
     "name": "stdout",
     "output_type": "stream",
     "text": [
      "Epoch 32/40, Train Loss: 1.3115, Val Loss: 1.7500\n"
     ]
    },
    {
     "name": "stderr",
     "output_type": "stream",
     "text": [
      " 82%|███████████████████████████████████████████████▊          | 33/40 [46:40<09:55, 85.00s/it]"
     ]
    },
    {
     "name": "stdout",
     "output_type": "stream",
     "text": [
      "Epoch 33/40, Train Loss: 1.2973, Val Loss: 1.8125\n"
     ]
    },
    {
     "name": "stderr",
     "output_type": "stream",
     "text": [
      " 85%|█████████████████████████████████████████████████▎        | 34/40 [48:05<08:29, 85.00s/it]"
     ]
    },
    {
     "name": "stdout",
     "output_type": "stream",
     "text": [
      "Epoch 34/40, Train Loss: 1.2890, Val Loss: 1.7293\n"
     ]
    },
    {
     "name": "stderr",
     "output_type": "stream",
     "text": [
      " 88%|██████████████████████████████████████████████████▊       | 35/40 [49:30<07:04, 84.99s/it]"
     ]
    },
    {
     "name": "stdout",
     "output_type": "stream",
     "text": [
      "Epoch 35/40, Train Loss: 1.2522, Val Loss: 1.7686\n"
     ]
    },
    {
     "name": "stderr",
     "output_type": "stream",
     "text": [
      " 90%|████████████████████████████████████████████████████▏     | 36/40 [50:55<05:40, 85.00s/it]"
     ]
    },
    {
     "name": "stdout",
     "output_type": "stream",
     "text": [
      "Epoch 36/40, Train Loss: 1.2458, Val Loss: 1.7728\n"
     ]
    },
    {
     "name": "stderr",
     "output_type": "stream",
     "text": [
      " 92%|█████████████████████████████████████████████████████▋    | 37/40 [52:20<04:14, 84.99s/it]"
     ]
    },
    {
     "name": "stdout",
     "output_type": "stream",
     "text": [
      "Epoch 37/40, Train Loss: 1.2457, Val Loss: 1.7887\n"
     ]
    },
    {
     "name": "stderr",
     "output_type": "stream",
     "text": [
      " 95%|███████████████████████████████████████████████████████   | 38/40 [53:45<02:49, 84.99s/it]"
     ]
    },
    {
     "name": "stdout",
     "output_type": "stream",
     "text": [
      "Epoch 38/40, Train Loss: 1.2172, Val Loss: 1.7775\n"
     ]
    },
    {
     "name": "stderr",
     "output_type": "stream",
     "text": [
      " 98%|████████████████████████████████████████████████████████▌ | 39/40 [55:10<01:24, 84.98s/it]"
     ]
    },
    {
     "name": "stdout",
     "output_type": "stream",
     "text": [
      "Epoch 39/40, Train Loss: 1.2176, Val Loss: 1.7739\n"
     ]
    },
    {
     "name": "stderr",
     "output_type": "stream",
     "text": [
      "100%|██████████████████████████████████████████████████████████| 40/40 [56:35<00:00, 84.88s/it]"
     ]
    },
    {
     "name": "stdout",
     "output_type": "stream",
     "text": [
      "Epoch 40/40, Train Loss: 1.1921, Val Loss: 1.8110\n"
     ]
    },
    {
     "name": "stderr",
     "output_type": "stream",
     "text": [
      "\n"
     ]
    }
   ],
   "source": [
    "# Training the model for 40 epochs\n",
    "\n",
    "train_losses, validation_losses = train_model(model, train_loader, val_loader, criterion, optimizer, epochs=40)"
   ]
  },
  {
   "cell_type": "code",
   "execution_count": 14,
   "id": "ae9cc566-dd82-4ff2-9504-29505dc71bef",
   "metadata": {},
   "outputs": [
    {
     "data": {
      "image/png": "[encoded data removed]",
      "text/plain": [
       "<Figure size 640x480 with 1 Axes>"
      ]
     },
     "metadata": {},
     "output_type": "display_data"
    }
   ],
   "source": [
    "plt.plot(train_losses)\n",
    "plt.xlabel(\"Epochs\")\n",
    "plt.ylabel(\"Loss (MAE)\")\n",
    "plt.title(\"Training loss\")\n",
    "plt.show()"
   ]
  },
  {
   "cell_type": "code",
   "execution_count": 15,
   "id": "a510e724-f444-445e-a883-dc2201c989b7",
   "metadata": {},
   "outputs": [
    {
     "data": {
      "image/png": "[encoded data removed]",
      "text/plain": [
       "<Figure size 640x480 with 1 Axes>"
      ]
     },
     "metadata": {},
     "output_type": "display_data"
    }
   ],
   "source": [
    "plt.plot(validation_losses)\n",
    "plt.xlabel(\"Epochs\")\n",
    "plt.ylabel(\"Loss (MAE)\")\n",
    "plt.title(\"Validation loss\")\n",
    "plt.show()"
   ]
  },
  {
   "cell_type": "code",
   "execution_count": 16,
   "id": "c41fb5a0-a4de-4052-95f9-c94654871fa3",
   "metadata": {},
   "outputs": [],
   "source": [
    "# Save the model\n",
    "\n",
    "torch.save(model.state_dict(), \"model.pth\")"
   ]
  },
  {
   "cell_type": "code",
   "execution_count": null,
   "id": "1b0e4ca8-d146-477a-bfc1-f6875a85aeee",
   "metadata": {},
   "outputs": [],
   "source": []
  },
  {
   "cell_type": "code",
   "execution_count": 17,
   "id": "cfaf3348-d889-4d70-842d-65fb413dc325",
   "metadata": {},
   "outputs": [
    {
     "name": "stdout",
     "output_type": "stream",
     "text": [
      "Test Loss: 1.7951\n"
     ]
    }
   ],
   "source": [
    "# Testing the Model on the test dataset\n",
    "\n",
    "def evaluate_model(model, test_loader):\n",
    "    model.eval()\n",
    "    test_loss = 0\n",
    "    with torch.no_grad():\n",
    "        for images, labels in test_loader:\n",
    "            images, labels = images.to(device), labels.to(device)\n",
    "            labels = labels.unsqueeze(1)\n",
    "            outputs = model(images)\n",
    "            loss = criterion(outputs, labels)\n",
    "            test_loss += loss.item()\n",
    "    print(f\"Test Loss: {test_loss/len(test_loader):.4f}\")\n",
    "    return [labels, outputs]\n",
    "\n",
    "l,o = evaluate_model(model, test_loader)\n"
   ]
  },
  {
   "cell_type": "code",
   "execution_count": 18,
   "id": "11b629fc-3b28-41f0-a393-269844f05444",
   "metadata": {},
   "outputs": [
    {
     "name": "stdout",
     "output_type": "stream",
     "text": [
      "Actual\t:\tPredicted\t:\tDiffrence\n",
      "13.0 \t:\t 12.023143768310547 \t:\t -0.9768562316894531\n",
      "8.0 \t:\t 7.0523881912231445 \t:\t -0.9476118087768555\n",
      "22.0 \t:\t 23.7950496673584 \t:\t 1.7950496673583984\n",
      "11.0 \t:\t 10.127303123474121 \t:\t -0.8726968765258789\n",
      "15.0 \t:\t 14.909523963928223 \t:\t -0.09047603607177734\n",
      "19.0 \t:\t 19.951597213745117 \t:\t 0.9515972137451172\n",
      "18.0 \t:\t 18.037399291992188 \t:\t 0.0373992919921875\n",
      "15.0 \t:\t 15.052903175354004 \t:\t 0.052903175354003906\n",
      "14.0 \t:\t 15.035238265991211 \t:\t 1.035238265991211\n",
      "28.0 \t:\t 30.039779663085938 \t:\t 2.0397796630859375\n",
      "12.0 \t:\t 12.84731388092041 \t:\t 0.8473138809204102\n",
      "16.0 \t:\t 16.27943229675293 \t:\t 0.2794322967529297\n",
      "23.0 \t:\t 21.265348434448242 \t:\t -1.7346515655517578\n",
      "23.0 \t:\t 24.823923110961914 \t:\t 1.823923110961914\n",
      "15.0 \t:\t 16.493295669555664 \t:\t 1.493295669555664\n",
      "17.0 \t:\t 16.891489028930664 \t:\t -0.10851097106933594\n",
      "12.0 \t:\t 14.995077133178711 \t:\t 2.995077133178711\n",
      "30.0 \t:\t 30.147348403930664 \t:\t 0.14734840393066406\n",
      "15.0 \t:\t 16.670658111572266 \t:\t 1.6706581115722656\n",
      "19.0 \t:\t 19.182950973510742 \t:\t 0.1829509735107422\n",
      "15.0 \t:\t 18.836015701293945 \t:\t 3.8360157012939453\n",
      "14.0 \t:\t 13.750544548034668 \t:\t -0.24945545196533203\n",
      "19.0 \t:\t 19.082361221313477 \t:\t 0.08236122131347656\n",
      "13.0 \t:\t 14.116914749145508 \t:\t 1.1169147491455078\n"
     ]
    }
   ],
   "source": [
    "# A set of the predicted values for comparison\n",
    "\n",
    "print(\"Actual\\t:\\tPredicted\\t:\\tDiffrence\")\n",
    "for el in range(len(l)):\n",
    "    print(float(l[el][0]), \"\\t:\\t\", float(o[el][0]), \"\\t:\\t\", float(o[el][0] - l[el][0]))"
   ]
  },
  {
   "cell_type": "code",
   "execution_count": null,
   "id": "24a774d3-f047-4bdf-b941-8b70b0d7a071",
   "metadata": {},
   "outputs": [],
   "source": []
  },
  {
   "cell_type": "code",
   "execution_count": null,
   "id": "b309c2a7-77fb-41e0-8783-2c97618562ed",
   "metadata": {},
   "outputs": [],
   "source": [
    "# Defining the Classification model, loading it and moving it to the gpu\n",
    "\n",
    "class CNNClassifier(nn.Module):\n",
    "    def __init__(self):\n",
    "        super(CNNRegressor, self).__init__()\n",
    "        self.conv_layers = nn.Sequential(\n",
    "            # Convolution layer 1\n",
    "            nn.Conv2d(1, 10, kernel_size=28, stride=1, padding=14),  # (N, 10, 40, 168)\n",
    "            nn.ReLU(),\n",
    "            nn.MaxPool2d(kernel_size=2, stride=2),  # (N, 10, 20, 84)\n",
    "            # Convolution layer 2\n",
    "            nn.Conv2d(10, 16, kernel_size=3, stride=1, padding=1),  # (N, 16, 20, 84)\n",
    "            nn.ReLU(),\n",
    "            nn.MaxPool2d(kernel_size=2, stride=2),  # (N, 16, 10, 42)\n",
    "            # Convolution layer 3\n",
    "            nn.Conv2d(16, 32, kernel_size=3, stride=1, padding=1),  # (N, 32, 10, 42)\n",
    "            nn.ReLU(),\n",
    "            nn.MaxPool2d(kernel_size=2, stride=2),  # (N, 32, 5, 21)\n",
    "        )\n",
    "        self.fc_layers = nn.Sequential(\n",
    "            nn.Flatten(),\n",
    "            # Fully connected layer 1\n",
    "            nn.Linear(32 * 5 * 21, 256),\n",
    "            nn.ReLU(),\n",
    "            # Fully connected layer 2\n",
    "            nn.Linear(256, 40),\n",
    "        )\n",
    "\n",
    "    def forward(self, x):\n",
    "        # Running the convolution layers\n",
    "        x = self.conv_layers(x)\n",
    "        # Running the fully connected layers\n",
    "        x = self.fc_layers(x)\n",
    "        return x\n",
    "\n",
    "model = CNNClassifier().to(device)\n",
    "model.load_state_dict(torch.load('model.pth', weights_only=True))"
   ]
  }
 ],
 "metadata": {
  "kernelspec": {
   "display_name": "Python 3 (ipykernel)",
   "language": "python",
   "name": "python3"
  },
  "language_info": {
   "codemirror_mode": {
    "name": "ipython",
    "version": 3
   },
   "file_extension": ".py",
   "mimetype": "text/x-python",
   "name": "python",
   "nbconvert_exporter": "python",
   "pygments_lexer": "ipython3",
   "version": "3.13.1"
  }
 },
 "nbformat": 4,
 "nbformat_minor": 5
}
