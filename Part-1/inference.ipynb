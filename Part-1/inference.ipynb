{
 "cells": [
  {
   "cell_type": "code",
   "execution_count": 1,
   "id": "2d6b9cf0-d1d2-4f80-8c57-4d8ea0f4062d",
   "metadata": {},
   "outputs": [],
   "source": [
    "# Imports\n",
    "\n",
    "import numpy as np\n",
    "import matplotlib.pyplot as plt\n",
    "import torch\n",
    "import torch.nn as nn\n",
    "import torch.optim as optim\n",
    "from torch.utils.data import DataLoader, Dataset, random_split\n",
    "from sklearn.model_selection import train_test_split"
   ]
  },
  {
   "cell_type": "code",
   "execution_count": 2,
   "id": "dc61386a-81ba-48c9-b21f-c9fb9d8e976e",
   "metadata": {},
   "outputs": [],
   "source": [
    "# Importing training data\n",
    "\n",
    "# train_data1 = np.load('../DL-Project/data0.npy')\n",
    "# train_lab1 = np.load('../DL-Project/lab0.npy')\n",
    "\n",
    "# train_data2 = np.load('../DL-Project/data1.npy')\n",
    "# train_lab2 = np.load('../DL-Project/lab1.npy')\n",
    "\n",
    "# train_data3 = np.load('../DL-Project/data2.npy')\n",
    "# train_lab3 = np.load('../DL-Project/lab2.npy')"
   ]
  },
  {
   "cell_type": "code",
   "execution_count": 3,
   "id": "1e7c374d-2a6a-41a6-a5d7-a4896f1c93ee",
   "metadata": {},
   "outputs": [],
   "source": [
    "# Preprocessing - normalizing the image and adding new dimension for convolutions\n",
    "\n",
    "# images = np.concatenate((train_data1, train_data2, train_data3)) / 255\n",
    "# labels = np.concatenate((train_lab1, train_lab2, train_lab3))\n",
    "\n",
    "# images = images[:, np.newaxis, :, :]"
   ]
  },
  {
   "cell_type": "code",
   "execution_count": 4,
   "id": "0db8463d-d0aa-48b2-ba70-6bc400eb2ec7",
   "metadata": {},
   "outputs": [],
   "source": [
    "test_data = np.load('../DL-Project/data9.npy')\n",
    "labels = np.load('../DL-Project/label9.npy')\n",
    "\n",
    "images = test_data / 255\n",
    "images = images[:, np.newaxis, :, :]"
   ]
  },
  {
   "cell_type": "code",
   "execution_count": 5,
   "id": "59f5765a-6d2c-4fe3-94d3-39db2df9c53d",
   "metadata": {},
   "outputs": [],
   "source": [
    "test_images = torch.tensor(images, dtype=torch.float32)\n",
    "test_labels = torch.tensor(labels, dtype=torch.float32)"
   ]
  },
  {
   "cell_type": "code",
   "execution_count": 6,
   "id": "8f67dd4d-c13d-4f73-9c99-ef3279f7b17c",
   "metadata": {},
   "outputs": [],
   "source": [
    "# Creating the Dataset from the tensors\n",
    "\n",
    "class ImageDataset(Dataset):\n",
    "    def __init__(self, images, labels):\n",
    "        self.images = images\n",
    "        self.labels = labels\n",
    "\n",
    "    def __len__(self):\n",
    "        return len(self.images)\n",
    "\n",
    "    def __getitem__(self, idx):\n",
    "        return self.images[idx], self.labels[idx]\n",
    "\n",
    "test_dataset = ImageDataset(test_images, test_labels)\n",
    "\n",
    "# Creating DataLoader\n",
    "test_loader = DataLoader(test_dataset, batch_size=32, shuffle=False)"
   ]
  },
  {
   "cell_type": "code",
   "execution_count": 7,
   "id": "6a2ffa82-58ca-4fd1-ae8c-8fc7e4b9c8d2",
   "metadata": {},
   "outputs": [
    {
     "name": "stdout",
     "output_type": "stream",
     "text": [
      "Using device: cuda\n"
     ]
    }
   ],
   "source": [
    "# Choosing GPU for inference\n",
    "\n",
    "device = torch.device(\"cuda\" if torch.cuda.is_available() else \"cpu\")\n",
    "print(f\"Using device: {device}\")"
   ]
  },
  {
   "cell_type": "code",
   "execution_count": 8,
   "id": "57b56936-25e9-4b83-822e-9fa0047ec0a8",
   "metadata": {},
   "outputs": [
    {
     "data": {
      "text/plain": [
       "<All keys matched successfully>"
      ]
     },
     "execution_count": 8,
     "metadata": {},
     "output_type": "execute_result"
    }
   ],
   "source": [
    "# Defining the model, loading it and moving it to the gpu\n",
    "\n",
    "class CNNRegressor(nn.Module):\n",
    "    def __init__(self):\n",
    "        super(CNNRegressor, self).__init__()\n",
    "        self.conv_layers = nn.Sequential(\n",
    "            # Convolution layer 1\n",
    "            nn.Conv2d(1, 10, kernel_size=28, stride=1, padding=14),  # (N, 10, 40, 168)\n",
    "            nn.ReLU(),\n",
    "            nn.MaxPool2d(kernel_size=2, stride=2),  # (N, 10, 20, 84)\n",
    "            # Convolution layer 2\n",
    "            nn.Conv2d(10, 16, kernel_size=3, stride=1, padding=1),  # (N, 16, 20, 84)\n",
    "            nn.ReLU(),\n",
    "            nn.MaxPool2d(kernel_size=2, stride=2),  # (N, 16, 10, 42)\n",
    "            # Convolution layer 3\n",
    "            nn.Conv2d(16, 32, kernel_size=3, stride=1, padding=1),  # (N, 32, 10, 42)\n",
    "            nn.ReLU(),\n",
    "            nn.MaxPool2d(kernel_size=2, stride=2),  # (N, 32, 5, 21)\n",
    "        )\n",
    "        self.fc_layers = nn.Sequential(\n",
    "            nn.Flatten(),\n",
    "            # Fully connected layer 1\n",
    "            nn.Linear(32 * 5 * 21, 256),\n",
    "            nn.ReLU(),\n",
    "            # Fully connected layer 1\n",
    "            nn.Linear(256, 32),\n",
    "            nn.ReLU(),\n",
    "            # Fully connected layer 1\n",
    "            nn.Linear(32, 4),\n",
    "            nn.ReLU(),\n",
    "            # Final layer for output\n",
    "            nn.Linear(4, 1)  # Regression output\n",
    "        )\n",
    "\n",
    "    def forward(self, x):\n",
    "        # Running the convolution layers\n",
    "        x = self.conv_layers(x)\n",
    "        # Running the fully connected layers\n",
    "        x = self.fc_layers(x)\n",
    "        return x\n",
    "\n",
    "model = CNNRegressor().to(device)\n",
    "model.load_state_dict(torch.load('model.pth', weights_only=True))"
   ]
  },
  {
   "cell_type": "code",
   "execution_count": 9,
   "id": "e24f4f49-d1da-4c82-bb9a-59b934371a54",
   "metadata": {},
   "outputs": [
    {
     "name": "stdout",
     "output_type": "stream",
     "text": [
      "Test Loss: 1.8222\n"
     ]
    }
   ],
   "source": [
    "# Testing the Model on the whole dataset\n",
    "\n",
    "criterion = nn.L1Loss()\n",
    "\n",
    "def evaluate_model(model, test_loader):\n",
    "    model.eval()\n",
    "    test_loss = 0\n",
    "    with torch.no_grad():\n",
    "        for images, labels in test_loader:\n",
    "            images, labels = images.to(device), labels.to(device)\n",
    "            labels = labels.unsqueeze(1)\n",
    "            outputs = model(images)\n",
    "            loss = criterion(outputs, labels)\n",
    "            test_loss += loss.item()\n",
    "    print(f\"Test Loss: {test_loss/len(test_loader):.4f}\")\n",
    "    return [labels, outputs]\n",
    "\n",
    "l,o = evaluate_model(model, test_loader)"
   ]
  },
  {
   "cell_type": "code",
   "execution_count": 35,
   "id": "e7049c1f-2330-4c25-812c-abee82f51de7",
   "metadata": {},
   "outputs": [],
   "source": [
    "def evaluate_acc(model, data_loader):\n",
    "    model.eval()  # Set to evaluation mode\n",
    "    correct, total = 0, 0\n",
    "\n",
    "    with torch.no_grad():\n",
    "        for images, labels in data_loader:\n",
    "            images, labels = images.to(device), labels.to(device)\n",
    "            outputs = torch.round(model(images))\n",
    "            # predicted_classes = outputs\n",
    "            # print(np.shape(outputs.squeeze()), np.shape(labels))\n",
    "            correct += (outputs.squeeze() == labels).sum().item()\n",
    "            # print(outputs, labels)\n",
    "            total += labels.size(0)\n",
    "            # print(correct)\n",
    "\n",
    "    return 100 * correct / total  # Return accuracy percentage"
   ]
  },
  {
   "cell_type": "code",
   "execution_count": 36,
   "id": "7bd3947d-d711-4375-a5a8-32d5c99c1464",
   "metadata": {},
   "outputs": [
    {
     "name": "stdout",
     "output_type": "stream",
     "text": [
      "19.1\n"
     ]
    }
   ],
   "source": [
    "print(evaluate_acc(model, test_loader))"
   ]
  },
  {
   "cell_type": "code",
   "execution_count": null,
   "id": "0fd34974-df28-4045-a643-78d69e8ebad9",
   "metadata": {},
   "outputs": [],
   "source": []
  },
  {
   "cell_type": "code",
   "execution_count": null,
   "id": "7e37678e-c91c-4e65-a1dd-325bc9baa5d4",
   "metadata": {},
   "outputs": [],
   "source": []
  }
 ],
 "metadata": {
  "kernelspec": {
   "display_name": "Python 3 (ipykernel)",
   "language": "python",
   "name": "python3"
  },
  "language_info": {
   "codemirror_mode": {
    "name": "ipython",
    "version": 3
   },
   "file_extension": ".py",
   "mimetype": "text/x-python",
   "name": "python",
   "nbconvert_exporter": "python",
   "pygments_lexer": "ipython3",
   "version": "3.13.1"
  }
 },
 "nbformat": 4,
 "nbformat_minor": 5
}
